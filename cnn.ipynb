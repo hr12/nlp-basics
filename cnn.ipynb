{
 "cells": [
  {
   "cell_type": "markdown",
   "metadata": {},
   "source": [
    "### Loading data and libraries"
   ]
  },
  {
   "cell_type": "code",
   "execution_count": 1,
   "metadata": {},
   "outputs": [],
   "source": [
    "import pandas as pd\n",
    "import numpy as np\n",
    "from sklearn import linear_model, preprocessing, model_selection,feature_extraction"
   ]
  },
  {
   "cell_type": "code",
   "execution_count": 2,
   "metadata": {},
   "outputs": [],
   "source": [
    "from sklearn.model_selection import RandomizedSearchCV"
   ]
  },
  {
   "cell_type": "code",
   "execution_count": 3,
   "metadata": {},
   "outputs": [],
   "source": [
    "import matplotlib.pyplot as plt"
   ]
  },
  {
   "cell_type": "code",
   "execution_count": 4,
   "metadata": {},
   "outputs": [],
   "source": [
    "from sklearn.model_selection import train_test_split"
   ]
  },
  {
   "cell_type": "code",
   "execution_count": 5,
   "metadata": {},
   "outputs": [],
   "source": [
    "from nlp_utils.model import train_model"
   ]
  },
  {
   "cell_type": "code",
   "execution_count": 6,
   "metadata": {},
   "outputs": [],
   "source": [
    "data_folder = 'data/'"
   ]
  },
  {
   "cell_type": "code",
   "execution_count": 7,
   "metadata": {},
   "outputs": [
    {
     "name": "stdout",
     "output_type": "stream",
     "text": [
      "(7613, 6)\n",
      "(3263, 5)\n"
     ]
    }
   ],
   "source": [
    "## using the cleaned files\n",
    "train_data = pd.read_csv(data_folder+'train_clean.csv'); print(train_data.shape)\n",
    "test_data = pd.read_csv(data_folder+'test_clean.csv'); print(test_data.shape)"
   ]
  },
  {
   "cell_type": "code",
   "execution_count": 8,
   "metadata": {},
   "outputs": [
    {
     "data": {
      "text/html": [
       "<div>\n",
       "<style scoped>\n",
       "    .dataframe tbody tr th:only-of-type {\n",
       "        vertical-align: middle;\n",
       "    }\n",
       "\n",
       "    .dataframe tbody tr th {\n",
       "        vertical-align: top;\n",
       "    }\n",
       "\n",
       "    .dataframe thead th {\n",
       "        text-align: right;\n",
       "    }\n",
       "</style>\n",
       "<table border=\"1\" class=\"dataframe\">\n",
       "  <thead>\n",
       "    <tr style=\"text-align: right;\">\n",
       "      <th></th>\n",
       "      <th>id</th>\n",
       "      <th>keyword</th>\n",
       "      <th>location</th>\n",
       "      <th>text</th>\n",
       "      <th>target</th>\n",
       "      <th>text_clean</th>\n",
       "    </tr>\n",
       "  </thead>\n",
       "  <tbody>\n",
       "    <tr>\n",
       "      <th>0</th>\n",
       "      <td>1</td>\n",
       "      <td>NaN</td>\n",
       "      <td>NaN</td>\n",
       "      <td>Our Deeds are the Reason of this #earthquake M...</td>\n",
       "      <td>1</td>\n",
       "      <td>deed reason earthquake may allah forgive u</td>\n",
       "    </tr>\n",
       "    <tr>\n",
       "      <th>1</th>\n",
       "      <td>4</td>\n",
       "      <td>NaN</td>\n",
       "      <td>NaN</td>\n",
       "      <td>Forest fire near La Ronge Sask. Canada</td>\n",
       "      <td>1</td>\n",
       "      <td>forest fire near la ronge sask canada</td>\n",
       "    </tr>\n",
       "    <tr>\n",
       "      <th>2</th>\n",
       "      <td>5</td>\n",
       "      <td>NaN</td>\n",
       "      <td>NaN</td>\n",
       "      <td>All residents asked to 'shelter in place' are ...</td>\n",
       "      <td>1</td>\n",
       "      <td>resident asked shelter place notified officer ...</td>\n",
       "    </tr>\n",
       "    <tr>\n",
       "      <th>3</th>\n",
       "      <td>6</td>\n",
       "      <td>NaN</td>\n",
       "      <td>NaN</td>\n",
       "      <td>13,000 people receive #wildfires evacuation or...</td>\n",
       "      <td>1</td>\n",
       "      <td>people receive wildfire evacuation order cali...</td>\n",
       "    </tr>\n",
       "    <tr>\n",
       "      <th>4</th>\n",
       "      <td>7</td>\n",
       "      <td>NaN</td>\n",
       "      <td>NaN</td>\n",
       "      <td>Just got sent this photo from Ruby #Alaska as ...</td>\n",
       "      <td>1</td>\n",
       "      <td>got sent photo ruby alaska smoke wildfire pour...</td>\n",
       "    </tr>\n",
       "  </tbody>\n",
       "</table>\n",
       "</div>"
      ],
      "text/plain": [
       "   id keyword location                                               text  \\\n",
       "0   1     NaN      NaN  Our Deeds are the Reason of this #earthquake M...   \n",
       "1   4     NaN      NaN             Forest fire near La Ronge Sask. Canada   \n",
       "2   5     NaN      NaN  All residents asked to 'shelter in place' are ...   \n",
       "3   6     NaN      NaN  13,000 people receive #wildfires evacuation or...   \n",
       "4   7     NaN      NaN  Just got sent this photo from Ruby #Alaska as ...   \n",
       "\n",
       "   target                                         text_clean  \n",
       "0       1         deed reason earthquake may allah forgive u  \n",
       "1       1              forest fire near la ronge sask canada  \n",
       "2       1  resident asked shelter place notified officer ...  \n",
       "3       1   people receive wildfire evacuation order cali...  \n",
       "4       1  got sent photo ruby alaska smoke wildfire pour...  "
      ]
     },
     "execution_count": 8,
     "metadata": {},
     "output_type": "execute_result"
    }
   ],
   "source": [
    "train_data.head()"
   ]
  },
  {
   "cell_type": "code",
   "execution_count": 9,
   "metadata": {},
   "outputs": [
    {
     "data": {
      "text/plain": [
       "'Haha South Tampa is getting flooded hah- WAIT A SECOND I LIVE IN SOUTH TAMPA WHAT AM I GONNA DO WHAT AM I GONNA DO FVCK #flooding'"
      ]
     },
     "execution_count": 9,
     "metadata": {},
     "output_type": "execute_result"
    }
   ],
   "source": [
    "train_data[train_data['target'] == 1].sample()['text'].values[0]"
   ]
  },
  {
   "cell_type": "code",
   "execution_count": 10,
   "metadata": {},
   "outputs": [],
   "source": [
    "# train_data.location.value_counts()"
   ]
  },
  {
   "cell_type": "code",
   "execution_count": 11,
   "metadata": {},
   "outputs": [],
   "source": [
    "sample_submission = pd.read_csv(data_folder+'sample_submission.csv')\n",
    "# sample_submission.head()"
   ]
  },
  {
   "cell_type": "markdown",
   "metadata": {},
   "source": [
    "### Word Embeddings"
   ]
  },
  {
   "cell_type": "markdown",
   "metadata": {},
   "source": [
    "#### Pre-processing"
   ]
  },
  {
   "cell_type": "code",
   "execution_count": 12,
   "metadata": {},
   "outputs": [],
   "source": [
    "from tensorflow.keras.preprocessing import text, sequence"
   ]
  },
  {
   "cell_type": "code",
   "execution_count": 13,
   "metadata": {},
   "outputs": [],
   "source": [
    "# text.Tokenizer?"
   ]
  },
  {
   "cell_type": "markdown",
   "metadata": {},
   "source": [
    "#### Trained with both `text` and `text_clean` columns\n",
    "`text` performed slightly better than `text_clean`"
   ]
  },
  {
   "cell_type": "code",
   "execution_count": 14,
   "metadata": {},
   "outputs": [],
   "source": [
    "## creating a tokenizer\n",
    "tokenizer = text.Tokenizer()\n",
    "tokenizer.fit_on_texts(train_data['text'])"
   ]
  },
  {
   "cell_type": "code",
   "execution_count": 15,
   "metadata": {},
   "outputs": [],
   "source": [
    "word_index = tokenizer.word_index"
   ]
  },
  {
   "cell_type": "code",
   "execution_count": 16,
   "metadata": {},
   "outputs": [
    {
     "data": {
      "text/plain": [
       "22700"
      ]
     },
     "execution_count": 16,
     "metadata": {},
     "output_type": "execute_result"
    }
   ],
   "source": [
    "len(word_index)"
   ]
  },
  {
   "cell_type": "code",
   "execution_count": 17,
   "metadata": {},
   "outputs": [],
   "source": [
    "# convering tweets to sequences and padding them\n",
    "train_seq_x = sequence.pad_sequences(tokenizer.texts_to_sequences(train_data['text_clean']), maxlen=70,padding='post')\n",
    "test_seq_x = sequence.pad_sequences(tokenizer.texts_to_sequences(test_data['text_clean']), maxlen=70,padding='post')"
   ]
  },
  {
   "cell_type": "code",
   "execution_count": 18,
   "metadata": {},
   "outputs": [
    {
     "data": {
      "text/plain": [
       "array([[ 868,  263,  138, ...,    0,    0,    0],\n",
       "       [ 189,   45,  229, ...,    0,    0,    0],\n",
       "       [1620, 2158,  714, ...,    0,    0,    0],\n",
       "       ...,\n",
       "       [ 283,  590, 1609, ...,    0,    0,    0],\n",
       "       [  78, 1145,  342, ...,    0,    0,    0],\n",
       "       [ 209,  153,  546, ...,    0,    0,    0]], dtype=int32)"
      ]
     },
     "execution_count": 18,
     "metadata": {},
     "output_type": "execute_result"
    }
   ],
   "source": [
    "train_seq_x"
   ]
  },
  {
   "cell_type": "code",
   "execution_count": 19,
   "metadata": {},
   "outputs": [],
   "source": [
    "train_x, valid_x, train_y,valid_y = train_test_split(train_seq_x, train_data['target'], test_size = 0.15, random_state = 42 )"
   ]
  },
  {
   "cell_type": "code",
   "execution_count": 20,
   "metadata": {},
   "outputs": [],
   "source": [
    "### loading pretrained word-embeddings\n",
    "embeddings_index = {}\n",
    "\n",
    "for i, line in enumerate(open('data/wiki-news-300d-1M.vec', encoding='utf-8')):\n",
    "    values = line.split()\n",
    "    embeddings_index[values[0]] = np.asarray(values[1:], dtype='float32')"
   ]
  },
  {
   "cell_type": "code",
   "execution_count": 21,
   "metadata": {},
   "outputs": [
    {
     "data": {
      "text/plain": [
       "999995"
      ]
     },
     "execution_count": 21,
     "metadata": {},
     "output_type": "execute_result"
    }
   ],
   "source": [
    "len(embeddings_index.keys())"
   ]
  },
  {
   "cell_type": "code",
   "execution_count": 22,
   "metadata": {},
   "outputs": [
    {
     "name": "stdout",
     "output_type": "stream",
     "text": [
      "Embeddings found for 12084 words out of 22700\n"
     ]
    }
   ],
   "source": [
    "### token embedding mapping\n",
    "embedding_matrix = np.zeros((len(word_index)+1, 300))\n",
    "\n",
    "x = 0\n",
    "unfound_words = []\n",
    "for word, i in word_index.items():\n",
    "    vec = embeddings_index.get(word)\n",
    "    if vec is not None:\n",
    "        x+=1\n",
    "        embedding_matrix[i] = vec\n",
    "    else:\n",
    "        unfound_words.append(word)\n",
    "\n",
    "print(\"Embeddings found for {} words out of {}\".format(x, len(word_index)))"
   ]
  },
  {
   "cell_type": "code",
   "execution_count": 23,
   "metadata": {},
   "outputs": [],
   "source": [
    "# unfound_words[400:450]"
   ]
  },
  {
   "cell_type": "code",
   "execution_count": 24,
   "metadata": {},
   "outputs": [],
   "source": [
    "# embedding_matrix[-1]"
   ]
  },
  {
   "cell_type": "code",
   "execution_count": 25,
   "metadata": {},
   "outputs": [],
   "source": [
    "# embedding_matrix.sum(axis=1)"
   ]
  },
  {
   "cell_type": "markdown",
   "metadata": {},
   "source": [
    "### CNN"
   ]
  },
  {
   "cell_type": "code",
   "execution_count": 26,
   "metadata": {},
   "outputs": [],
   "source": [
    "from tensorflow.keras import layers"
   ]
  },
  {
   "cell_type": "code",
   "execution_count": 27,
   "metadata": {},
   "outputs": [],
   "source": [
    "from tensorflow.keras import optimizers"
   ]
  },
  {
   "cell_type": "code",
   "execution_count": 28,
   "metadata": {},
   "outputs": [],
   "source": [
    "from tensorflow.keras import models"
   ]
  },
  {
   "cell_type": "code",
   "execution_count": 29,
   "metadata": {},
   "outputs": [],
   "source": [
    "# layers.Conv1D?"
   ]
  },
  {
   "cell_type": "code",
   "execution_count": 30,
   "metadata": {},
   "outputs": [],
   "source": [
    "# layers.GlobalMaxPool1D?"
   ]
  },
  {
   "cell_type": "code",
   "execution_count": 31,
   "metadata": {},
   "outputs": [],
   "source": [
    "def create_cnn_model():\n",
    "    \n",
    "    input_layer = layers.Input(shape=(70,)) # input layer\n",
    "    embedding_layer = layers.Embedding(len(word_index)+1, 300, trainable = False, weights = [embedding_matrix])(input_layer)\n",
    "    embedding_layer = layers.SpatialDropout1D(0.3)(embedding_layer)\n",
    "    \n",
    "    conv_layer = layers.Conv1D(100,3,activation = 'relu')(embedding_layer)\n",
    "    pooling_layer = layers.GlobalMaxPool1D()(conv_layer)\n",
    "\n",
    "#     output_layer0 = layers.Dense(128, activation = 'relu')(pooling_layer)\n",
    "# #     output_layer0 = layers.BatchNormalization()(output_layer0)\n",
    "#     output_layer0 = layers.Dropout(0.25)(output_layer0)\n",
    "\n",
    "#     output_layer1 = layers.Dense(64, activation = 'relu')(output_layer0)\n",
    "# #     output_layer1 = layers.BatchNormalization()(output_layer1)\n",
    "#     output_layer1 = layers.Dropout(0.25)(output_layer1)\n",
    "    \n",
    "#     output_layer2 = layers.Dense(32, activation = 'relu')(output_layer1)\n",
    "# #     output_layer2 = layers.BatchNormalization()(output_layer2)\n",
    "#     output_layer2 = layers.Dropout(0.25)(output_layer2)\n",
    "    \n",
    "    output_layer3 = layers.Dense(32, activation = 'relu')(pooling_layer)\n",
    "#     output_layer3 = layers.BatchNormalization()(output_layer3)\n",
    "#     output_layer3 = layers.Dropout(0.25)(output_layer3)\n",
    "    \n",
    "    output_layer4 = layers.Dense(1, activation = 'sigmoid')(output_layer3)\n",
    "    \n",
    "    model= models.Model(inputs = input_layer, outputs = output_layer4)\n",
    "    model.compile(optimizer = optimizers.Adam(learning_rate=0.00001) ,loss = \"binary_crossentropy\")\n",
    "    \n",
    "    return model"
   ]
  },
  {
   "cell_type": "code",
   "execution_count": 32,
   "metadata": {},
   "outputs": [],
   "source": [
    "### training the model\n",
    "\n",
    "model = create_cnn_model()\n"
   ]
  },
  {
   "cell_type": "code",
   "execution_count": 33,
   "metadata": {},
   "outputs": [
    {
     "name": "stdout",
     "output_type": "stream",
     "text": [
      "Model: \"model\"\n",
      "_________________________________________________________________\n",
      "Layer (type)                 Output Shape              Param #   \n",
      "=================================================================\n",
      "input_1 (InputLayer)         [(None, 70)]              0         \n",
      "_________________________________________________________________\n",
      "embedding (Embedding)        (None, 70, 300)           6810300   \n",
      "_________________________________________________________________\n",
      "spatial_dropout1d (SpatialDr (None, 70, 300)           0         \n",
      "_________________________________________________________________\n",
      "conv1d (Conv1D)              (None, 68, 100)           90100     \n",
      "_________________________________________________________________\n",
      "global_max_pooling1d (Global (None, 100)               0         \n",
      "_________________________________________________________________\n",
      "dense (Dense)                (None, 32)                3232      \n",
      "_________________________________________________________________\n",
      "dense_1 (Dense)              (None, 1)                 33        \n",
      "=================================================================\n",
      "Total params: 6,903,665\n",
      "Trainable params: 93,365\n",
      "Non-trainable params: 6,810,300\n",
      "_________________________________________________________________\n"
     ]
    }
   ],
   "source": [
    "model.summary()"
   ]
  },
  {
   "cell_type": "code",
   "execution_count": 34,
   "metadata": {},
   "outputs": [
    {
     "name": "stdout",
     "output_type": "stream",
     "text": [
      "Epoch 1/200\n",
      "203/203 [==============================] - 5s 19ms/step - loss: 0.7152 - val_loss: 0.6913\n",
      "Epoch 2/200\n",
      "203/203 [==============================] - 3s 13ms/step - loss: 0.6911 - val_loss: 0.6785\n",
      "Epoch 3/200\n",
      "203/203 [==============================] - 2s 11ms/step - loss: 0.6764 - val_loss: 0.6699\n",
      "Epoch 4/200\n",
      "203/203 [==============================] - 2s 11ms/step - loss: 0.6663 - val_loss: 0.6623\n",
      "Epoch 5/200\n",
      "203/203 [==============================] - 2s 11ms/step - loss: 0.6582 - val_loss: 0.6544\n",
      "Epoch 6/200\n",
      "203/203 [==============================] - 2s 11ms/step - loss: 0.6516 - val_loss: 0.6462\n",
      "Epoch 7/200\n",
      "203/203 [==============================] - 2s 10ms/step - loss: 0.6413 - val_loss: 0.6374\n",
      "Epoch 8/200\n",
      "203/203 [==============================] - 2s 11ms/step - loss: 0.6336 - val_loss: 0.6286\n",
      "Epoch 9/200\n",
      "203/203 [==============================] - 3s 14ms/step - loss: 0.6210 - val_loss: 0.6203\n",
      "Epoch 10/200\n",
      "203/203 [==============================] - 3s 13ms/step - loss: 0.6124 - val_loss: 0.6121\n",
      "Epoch 11/200\n",
      "203/203 [==============================] - 3s 13ms/step - loss: 0.6017 - val_loss: 0.6039\n",
      "Epoch 12/200\n",
      "203/203 [==============================] - 3s 14ms/step - loss: 0.5978 - val_loss: 0.5959\n",
      "Epoch 13/200\n",
      "203/203 [==============================] - 3s 13ms/step - loss: 0.5888 - val_loss: 0.5878\n",
      "Epoch 14/200\n",
      "203/203 [==============================] - 3s 14ms/step - loss: 0.5805 - val_loss: 0.5805\n",
      "Epoch 15/200\n",
      "203/203 [==============================] - 3s 14ms/step - loss: 0.5730 - val_loss: 0.5735\n",
      "Epoch 16/200\n",
      "203/203 [==============================] - 2s 12ms/step - loss: 0.5678 - val_loss: 0.5669\n",
      "Epoch 17/200\n",
      "203/203 [==============================] - 3s 14ms/step - loss: 0.5568 - val_loss: 0.5606\n",
      "Epoch 18/200\n",
      "203/203 [==============================] - 3s 16ms/step - loss: 0.5572 - val_loss: 0.5546\n",
      "Epoch 19/200\n",
      "203/203 [==============================] - 3s 15ms/step - loss: 0.5504 - val_loss: 0.5484\n",
      "Epoch 20/200\n",
      "203/203 [==============================] - 3s 13ms/step - loss: 0.5363 - val_loss: 0.5422\n",
      "Epoch 21/200\n",
      "203/203 [==============================] - 2s 11ms/step - loss: 0.5333 - val_loss: 0.5361\n",
      "Epoch 22/200\n",
      "203/203 [==============================] - 2s 11ms/step - loss: 0.5238 - val_loss: 0.5306\n",
      "Epoch 23/200\n",
      "203/203 [==============================] - 2s 11ms/step - loss: 0.5225 - val_loss: 0.5260\n",
      "Epoch 24/200\n",
      "203/203 [==============================] - 2s 11ms/step - loss: 0.5146 - val_loss: 0.5213\n",
      "Epoch 25/200\n",
      "203/203 [==============================] - 2s 11ms/step - loss: 0.5042 - val_loss: 0.5170\n",
      "Epoch 26/200\n",
      "203/203 [==============================] - 2s 11ms/step - loss: 0.4947 - val_loss: 0.5131\n",
      "Epoch 27/200\n",
      "203/203 [==============================] - 3s 14ms/step - loss: 0.5037 - val_loss: 0.5096\n",
      "Epoch 28/200\n",
      "203/203 [==============================] - 3s 15ms/step - loss: 0.4949 - val_loss: 0.5066\n",
      "Epoch 29/200\n",
      "203/203 [==============================] - 2s 12ms/step - loss: 0.4915 - val_loss: 0.5032\n",
      "Epoch 30/200\n",
      "203/203 [==============================] - 2s 10ms/step - loss: 0.4929 - val_loss: 0.5005\n",
      "Epoch 31/200\n",
      "203/203 [==============================] - 2s 11ms/step - loss: 0.4884 - val_loss: 0.4975\n",
      "Epoch 32/200\n",
      "203/203 [==============================] - 2s 12ms/step - loss: 0.4854 - val_loss: 0.4953\n",
      "Epoch 33/200\n",
      "203/203 [==============================] - 3s 15ms/step - loss: 0.4684 - val_loss: 0.4927\n",
      "Epoch 34/200\n",
      "203/203 [==============================] - 3s 15ms/step - loss: 0.4843 - val_loss: 0.4906\n",
      "Epoch 35/200\n",
      "203/203 [==============================] - 4s 21ms/step - loss: 0.4735 - val_loss: 0.4882\n",
      "Epoch 36/200\n",
      "203/203 [==============================] - 3s 17ms/step - loss: 0.4680 - val_loss: 0.4865\n",
      "Epoch 37/200\n",
      "203/203 [==============================] - 3s 13ms/step - loss: 0.4768 - val_loss: 0.4847\n",
      "Epoch 38/200\n",
      "203/203 [==============================] - 3s 13ms/step - loss: 0.4728 - val_loss: 0.4827\n",
      "Epoch 39/200\n",
      "203/203 [==============================] - 3s 12ms/step - loss: 0.4572 - val_loss: 0.4810\n",
      "Epoch 40/200\n",
      "203/203 [==============================] - 2s 12ms/step - loss: 0.4655 - val_loss: 0.4790\n",
      "Epoch 41/200\n",
      "203/203 [==============================] - 3s 13ms/step - loss: 0.4521 - val_loss: 0.4776\n",
      "Epoch 42/200\n",
      "203/203 [==============================] - 2s 11ms/step - loss: 0.4669 - val_loss: 0.4762\n",
      "Epoch 43/200\n",
      "203/203 [==============================] - 2s 11ms/step - loss: 0.4557 - val_loss: 0.4749\n",
      "Epoch 44/200\n",
      "203/203 [==============================] - 2s 11ms/step - loss: 0.4526 - val_loss: 0.4735\n",
      "Epoch 45/200\n",
      "203/203 [==============================] - 2s 12ms/step - loss: 0.4485 - val_loss: 0.4721\n",
      "Epoch 46/200\n",
      "203/203 [==============================] - 2s 12ms/step - loss: 0.4455 - val_loss: 0.4710\n",
      "Epoch 47/200\n",
      "203/203 [==============================] - 2s 10ms/step - loss: 0.4468 - val_loss: 0.4697\n",
      "Epoch 48/200\n",
      "203/203 [==============================] - 2s 10ms/step - loss: 0.4496 - val_loss: 0.4688\n",
      "Epoch 49/200\n",
      "203/203 [==============================] - 2s 11ms/step - loss: 0.4492 - val_loss: 0.4674\n",
      "Epoch 50/200\n",
      "203/203 [==============================] - 2s 11ms/step - loss: 0.4354 - val_loss: 0.4664\n",
      "Epoch 51/200\n",
      "203/203 [==============================] - 2s 11ms/step - loss: 0.4539 - val_loss: 0.4656\n",
      "Epoch 52/200\n",
      "203/203 [==============================] - 3s 13ms/step - loss: 0.4395 - val_loss: 0.4646\n",
      "Epoch 53/200\n",
      "203/203 [==============================] - 3s 13ms/step - loss: 0.4502 - val_loss: 0.4638\n",
      "Epoch 54/200\n",
      "203/203 [==============================] - 3s 13ms/step - loss: 0.4476 - val_loss: 0.4629\n",
      "Epoch 55/200\n",
      "203/203 [==============================] - 3s 15ms/step - loss: 0.4380 - val_loss: 0.4622\n",
      "Epoch 56/200\n",
      "203/203 [==============================] - 2s 12ms/step - loss: 0.4349 - val_loss: 0.4614\n",
      "Epoch 57/200\n",
      "203/203 [==============================] - 2s 12ms/step - loss: 0.4388 - val_loss: 0.4606\n",
      "Epoch 58/200\n",
      "203/203 [==============================] - 3s 13ms/step - loss: 0.4347 - val_loss: 0.4602\n",
      "Epoch 59/200\n",
      "203/203 [==============================] - 2s 11ms/step - loss: 0.4306 - val_loss: 0.4594\n",
      "Epoch 60/200\n",
      "203/203 [==============================] - 3s 12ms/step - loss: 0.4328 - val_loss: 0.4589\n",
      "Epoch 61/200\n",
      "203/203 [==============================] - 2s 11ms/step - loss: 0.4356 - val_loss: 0.4585\n",
      "Epoch 62/200\n",
      "203/203 [==============================] - 2s 11ms/step - loss: 0.4226 - val_loss: 0.4579\n",
      "Epoch 63/200\n",
      "203/203 [==============================] - 2s 11ms/step - loss: 0.4268 - val_loss: 0.4572\n",
      "Epoch 64/200\n",
      "203/203 [==============================] - 3s 12ms/step - loss: 0.4271 - val_loss: 0.4568\n",
      "Epoch 65/200\n",
      "203/203 [==============================] - 2s 11ms/step - loss: 0.4350 - val_loss: 0.4561\n",
      "Epoch 66/200\n",
      "203/203 [==============================] - 2s 11ms/step - loss: 0.4235 - val_loss: 0.4554\n",
      "Epoch 67/200\n",
      "203/203 [==============================] - 2s 11ms/step - loss: 0.4279 - val_loss: 0.4550\n",
      "Epoch 68/200\n",
      "203/203 [==============================] - 2s 11ms/step - loss: 0.4362 - val_loss: 0.4546\n",
      "Epoch 69/200\n",
      "203/203 [==============================] - 2s 11ms/step - loss: 0.4299 - val_loss: 0.4544\n",
      "Epoch 70/200\n",
      "203/203 [==============================] - 2s 11ms/step - loss: 0.4227 - val_loss: 0.4538\n",
      "Epoch 71/200\n",
      "203/203 [==============================] - 2s 12ms/step - loss: 0.4094 - val_loss: 0.4532\n",
      "Epoch 72/200\n",
      "203/203 [==============================] - 2s 11ms/step - loss: 0.4125 - val_loss: 0.4530\n",
      "Epoch 73/200\n",
      "203/203 [==============================] - 2s 11ms/step - loss: 0.4195 - val_loss: 0.4525\n",
      "Epoch 74/200\n",
      "203/203 [==============================] - 2s 11ms/step - loss: 0.4155 - val_loss: 0.4521\n",
      "Epoch 75/200\n",
      "203/203 [==============================] - 2s 11ms/step - loss: 0.4003 - val_loss: 0.4519\n",
      "Epoch 76/200\n",
      "203/203 [==============================] - 2s 11ms/step - loss: 0.4091 - val_loss: 0.4514\n",
      "Epoch 77/200\n",
      "203/203 [==============================] - 2s 10ms/step - loss: 0.4155 - val_loss: 0.4511\n",
      "Epoch 78/200\n",
      "203/203 [==============================] - 2s 11ms/step - loss: 0.4097 - val_loss: 0.4509\n",
      "Epoch 79/200\n",
      "203/203 [==============================] - 2s 11ms/step - loss: 0.4091 - val_loss: 0.4506\n",
      "Epoch 80/200\n",
      "203/203 [==============================] - 2s 11ms/step - loss: 0.4186 - val_loss: 0.4501\n",
      "Epoch 81/200\n",
      "203/203 [==============================] - 2s 11ms/step - loss: 0.4046 - val_loss: 0.4498\n",
      "Epoch 82/200\n",
      "203/203 [==============================] - 2s 12ms/step - loss: 0.4153 - val_loss: 0.4497\n",
      "Epoch 83/200\n",
      "203/203 [==============================] - 2s 12ms/step - loss: 0.4163 - val_loss: 0.4496\n",
      "Epoch 84/200\n",
      "203/203 [==============================] - 3s 12ms/step - loss: 0.3986 - val_loss: 0.4493\n",
      "Epoch 85/200\n",
      "203/203 [==============================] - 3s 13ms/step - loss: 0.4126 - val_loss: 0.4489\n",
      "Epoch 86/200\n",
      "203/203 [==============================] - 2s 11ms/step - loss: 0.4171 - val_loss: 0.4488\n",
      "Epoch 87/200\n",
      "203/203 [==============================] - 3s 14ms/step - loss: 0.4071 - val_loss: 0.4484\n",
      "Epoch 88/200\n",
      "203/203 [==============================] - 3s 14ms/step - loss: 0.4040 - val_loss: 0.4486\n",
      "Epoch 89/200\n",
      "203/203 [==============================] - 3s 13ms/step - loss: 0.4170 - val_loss: 0.4481\n",
      "Epoch 90/200\n",
      "203/203 [==============================] - 3s 16ms/step - loss: 0.4135 - val_loss: 0.4481\n",
      "Epoch 91/200\n",
      "203/203 [==============================] - 3s 13ms/step - loss: 0.3963 - val_loss: 0.4478\n",
      "Epoch 92/200\n",
      "203/203 [==============================] - 3s 14ms/step - loss: 0.3955 - val_loss: 0.4476\n",
      "Epoch 93/200\n",
      "203/203 [==============================] - 3s 14ms/step - loss: 0.4065 - val_loss: 0.4475\n",
      "Epoch 94/200\n",
      "203/203 [==============================] - 3s 13ms/step - loss: 0.4024 - val_loss: 0.4474\n",
      "Epoch 95/200\n",
      "203/203 [==============================] - 3s 14ms/step - loss: 0.3980 - val_loss: 0.4471\n",
      "Epoch 96/200\n",
      "203/203 [==============================] - 3s 14ms/step - loss: 0.4019 - val_loss: 0.4471\n",
      "Epoch 97/200\n",
      "203/203 [==============================] - 3s 14ms/step - loss: 0.4063 - val_loss: 0.4469\n",
      "Epoch 98/200\n",
      "203/203 [==============================] - 3s 15ms/step - loss: 0.3884 - val_loss: 0.4469\n",
      "Epoch 99/200\n",
      "203/203 [==============================] - 3s 15ms/step - loss: 0.3959 - val_loss: 0.4468\n",
      "Epoch 100/200\n",
      "203/203 [==============================] - 3s 15ms/step - loss: 0.3900 - val_loss: 0.4467\n",
      "Epoch 101/200\n",
      "203/203 [==============================] - 3s 14ms/step - loss: 0.3905 - val_loss: 0.4466\n",
      "Epoch 102/200\n",
      "203/203 [==============================] - 3s 14ms/step - loss: 0.3850 - val_loss: 0.4465\n",
      "Epoch 103/200\n",
      "203/203 [==============================] - 3s 13ms/step - loss: 0.3866 - val_loss: 0.4466\n",
      "Epoch 104/200\n",
      "203/203 [==============================] - 3s 14ms/step - loss: 0.3890 - val_loss: 0.4463\n",
      "Epoch 105/200\n",
      "203/203 [==============================] - 3s 14ms/step - loss: 0.3947 - val_loss: 0.4463\n",
      "Epoch 106/200\n",
      "203/203 [==============================] - 3s 14ms/step - loss: 0.3936 - val_loss: 0.4462\n",
      "Epoch 107/200\n",
      "203/203 [==============================] - 3s 15ms/step - loss: 0.3913 - val_loss: 0.4460\n",
      "Epoch 108/200\n",
      "203/203 [==============================] - 3s 14ms/step - loss: 0.3902 - val_loss: 0.4461\n",
      "Epoch 109/200\n",
      "203/203 [==============================] - 3s 14ms/step - loss: 0.3818 - val_loss: 0.4458\n",
      "Epoch 110/200\n",
      "203/203 [==============================] - 3s 14ms/step - loss: 0.3736 - val_loss: 0.4458\n",
      "Epoch 111/200\n",
      "203/203 [==============================] - 3s 14ms/step - loss: 0.3934 - val_loss: 0.4457\n",
      "Epoch 112/200\n",
      "203/203 [==============================] - 3s 13ms/step - loss: 0.3834 - val_loss: 0.4457\n",
      "Epoch 113/200\n",
      "203/203 [==============================] - 3s 14ms/step - loss: 0.3840 - val_loss: 0.4456\n",
      "Epoch 114/200\n",
      "203/203 [==============================] - 3s 14ms/step - loss: 0.3736 - val_loss: 0.4455\n",
      "Epoch 115/200\n",
      "203/203 [==============================] - 3s 14ms/step - loss: 0.3823 - val_loss: 0.4456\n",
      "Epoch 116/200\n",
      "203/203 [==============================] - 3s 14ms/step - loss: 0.3890 - val_loss: 0.4456\n",
      "Epoch 117/200\n",
      "203/203 [==============================] - 3s 15ms/step - loss: 0.3898 - val_loss: 0.4456\n",
      "Epoch 118/200\n",
      "203/203 [==============================] - 3s 14ms/step - loss: 0.3775 - val_loss: 0.4456\n",
      "Epoch 119/200\n",
      "203/203 [==============================] - 3s 14ms/step - loss: 0.3847 - val_loss: 0.4457\n",
      "Classification report : \n",
      "\n",
      "              precision    recall  f1-score   support\n",
      "\n",
      "           1       0.81      0.73      0.77       491\n",
      "           0       0.81      0.87      0.84       651\n",
      "\n",
      "   micro avg       0.81      0.81      0.81      1142\n",
      "   macro avg       0.81      0.80      0.80      1142\n",
      "weighted avg       0.81      0.81      0.81      1142\n",
      "\n",
      "Exporting data to: \n",
      "\n",
      "\t data/cnn_submission_20210225123024.csv\n"
     ]
    }
   ],
   "source": [
    "train_model(model, train_x, train_y, valid_x, valid_y, \n",
    "            neural_network = True, epochs = 200,\n",
    "            test_vectors = test_seq_x, submissions_data = sample_submission, submissions_file_prefix=\"cnn_submission\" \n",
    "           )"
   ]
  }
 ],
 "metadata": {
  "kernelspec": {
   "display_name": "Python 3",
   "language": "python",
   "name": "python3"
  },
  "language_info": {
   "codemirror_mode": {
    "name": "ipython",
    "version": 3
   },
   "file_extension": ".py",
   "mimetype": "text/x-python",
   "name": "python",
   "nbconvert_exporter": "python",
   "pygments_lexer": "ipython3",
   "version": "3.7.0"
  }
 },
 "nbformat": 4,
 "nbformat_minor": 5
}
