{
 "cells": [
  {
   "cell_type": "markdown",
   "id": "swiss-packet",
   "metadata": {},
   "source": [
    "### Loading data and libraries"
   ]
  },
  {
   "cell_type": "code",
   "execution_count": 1,
   "id": "ordinary-jamaica",
   "metadata": {},
   "outputs": [],
   "source": [
    "import pandas as pd\n",
    "import numpy as np\n",
    "from sklearn import linear_model, preprocessing, model_selection,feature_extraction"
   ]
  },
  {
   "cell_type": "code",
   "execution_count": 2,
   "id": "sound-diesel",
   "metadata": {},
   "outputs": [],
   "source": [
    "from sklearn.model_selection import RandomizedSearchCV"
   ]
  },
  {
   "cell_type": "code",
   "execution_count": 3,
   "id": "twenty-repair",
   "metadata": {},
   "outputs": [],
   "source": [
    "import matplotlib.pyplot as plt"
   ]
  },
  {
   "cell_type": "code",
   "execution_count": 4,
   "id": "unlikely-tulsa",
   "metadata": {},
   "outputs": [],
   "source": [
    "from sklearn.model_selection import train_test_split"
   ]
  },
  {
   "cell_type": "code",
   "execution_count": 5,
   "id": "secure-accordance",
   "metadata": {},
   "outputs": [],
   "source": [
    "from nlp_utils.model import train_model"
   ]
  },
  {
   "cell_type": "code",
   "execution_count": 6,
   "id": "collective-statistics",
   "metadata": {},
   "outputs": [],
   "source": [
    "data_folder = 'data/'"
   ]
  },
  {
   "cell_type": "code",
   "execution_count": 7,
   "id": "minor-frontier",
   "metadata": {},
   "outputs": [
    {
     "name": "stdout",
     "output_type": "stream",
     "text": [
      "(7613, 6)\n",
      "(3263, 5)\n"
     ]
    }
   ],
   "source": [
    "## using the cleaned files\n",
    "train_data = pd.read_csv(data_folder+'train_clean.csv'); print(train_data.shape)\n",
    "test_data = pd.read_csv(data_folder+'test_clean.csv'); print(test_data.shape)"
   ]
  },
  {
   "cell_type": "code",
   "execution_count": 8,
   "id": "optical-alloy",
   "metadata": {},
   "outputs": [
    {
     "data": {
      "text/html": [
       "<div>\n",
       "<style scoped>\n",
       "    .dataframe tbody tr th:only-of-type {\n",
       "        vertical-align: middle;\n",
       "    }\n",
       "\n",
       "    .dataframe tbody tr th {\n",
       "        vertical-align: top;\n",
       "    }\n",
       "\n",
       "    .dataframe thead th {\n",
       "        text-align: right;\n",
       "    }\n",
       "</style>\n",
       "<table border=\"1\" class=\"dataframe\">\n",
       "  <thead>\n",
       "    <tr style=\"text-align: right;\">\n",
       "      <th></th>\n",
       "      <th>id</th>\n",
       "      <th>keyword</th>\n",
       "      <th>location</th>\n",
       "      <th>text</th>\n",
       "      <th>target</th>\n",
       "      <th>text_clean</th>\n",
       "    </tr>\n",
       "  </thead>\n",
       "  <tbody>\n",
       "    <tr>\n",
       "      <th>0</th>\n",
       "      <td>1</td>\n",
       "      <td>NaN</td>\n",
       "      <td>NaN</td>\n",
       "      <td>Our Deeds are the Reason of this #earthquake M...</td>\n",
       "      <td>1</td>\n",
       "      <td>deed reason earthquake may allah forgive u</td>\n",
       "    </tr>\n",
       "    <tr>\n",
       "      <th>1</th>\n",
       "      <td>4</td>\n",
       "      <td>NaN</td>\n",
       "      <td>NaN</td>\n",
       "      <td>Forest fire near La Ronge Sask. Canada</td>\n",
       "      <td>1</td>\n",
       "      <td>forest fire near la ronge sask canada</td>\n",
       "    </tr>\n",
       "    <tr>\n",
       "      <th>2</th>\n",
       "      <td>5</td>\n",
       "      <td>NaN</td>\n",
       "      <td>NaN</td>\n",
       "      <td>All residents asked to 'shelter in place' are ...</td>\n",
       "      <td>1</td>\n",
       "      <td>resident asked shelter place notified officer ...</td>\n",
       "    </tr>\n",
       "    <tr>\n",
       "      <th>3</th>\n",
       "      <td>6</td>\n",
       "      <td>NaN</td>\n",
       "      <td>NaN</td>\n",
       "      <td>13,000 people receive #wildfires evacuation or...</td>\n",
       "      <td>1</td>\n",
       "      <td>people receive wildfire evacuation order cali...</td>\n",
       "    </tr>\n",
       "    <tr>\n",
       "      <th>4</th>\n",
       "      <td>7</td>\n",
       "      <td>NaN</td>\n",
       "      <td>NaN</td>\n",
       "      <td>Just got sent this photo from Ruby #Alaska as ...</td>\n",
       "      <td>1</td>\n",
       "      <td>got sent photo ruby alaska smoke wildfire pour...</td>\n",
       "    </tr>\n",
       "  </tbody>\n",
       "</table>\n",
       "</div>"
      ],
      "text/plain": [
       "   id keyword location                                               text  \\\n",
       "0   1     NaN      NaN  Our Deeds are the Reason of this #earthquake M...   \n",
       "1   4     NaN      NaN             Forest fire near La Ronge Sask. Canada   \n",
       "2   5     NaN      NaN  All residents asked to 'shelter in place' are ...   \n",
       "3   6     NaN      NaN  13,000 people receive #wildfires evacuation or...   \n",
       "4   7     NaN      NaN  Just got sent this photo from Ruby #Alaska as ...   \n",
       "\n",
       "   target                                         text_clean  \n",
       "0       1         deed reason earthquake may allah forgive u  \n",
       "1       1              forest fire near la ronge sask canada  \n",
       "2       1  resident asked shelter place notified officer ...  \n",
       "3       1   people receive wildfire evacuation order cali...  \n",
       "4       1  got sent photo ruby alaska smoke wildfire pour...  "
      ]
     },
     "execution_count": 8,
     "metadata": {},
     "output_type": "execute_result"
    }
   ],
   "source": [
    "train_data.head()"
   ]
  },
  {
   "cell_type": "code",
   "execution_count": 9,
   "id": "appreciated-transport",
   "metadata": {},
   "outputs": [
    {
     "data": {
      "text/plain": [
       "\"Thanks a lot roadworks men cos a tube strike wasn't disruptive enough so having to walk the desolate route from Tottenham to .....\""
      ]
     },
     "execution_count": 9,
     "metadata": {},
     "output_type": "execute_result"
    }
   ],
   "source": [
    "train_data[train_data['target'] == 1].sample()['text'].values[0]"
   ]
  },
  {
   "cell_type": "code",
   "execution_count": 10,
   "id": "south-canon",
   "metadata": {},
   "outputs": [],
   "source": [
    "# train_data.location.value_counts()"
   ]
  },
  {
   "cell_type": "code",
   "execution_count": 11,
   "id": "sustained-serbia",
   "metadata": {},
   "outputs": [],
   "source": [
    "sample_submission = pd.read_csv(data_folder+'sample_submission.csv')\n",
    "# sample_submission.head()"
   ]
  },
  {
   "cell_type": "markdown",
   "id": "stupid-termination",
   "metadata": {},
   "source": [
    "### Word Embeddings"
   ]
  },
  {
   "cell_type": "markdown",
   "id": "round-status",
   "metadata": {},
   "source": [
    "#### Pre-processing"
   ]
  },
  {
   "cell_type": "code",
   "execution_count": 12,
   "id": "referenced-duplicate",
   "metadata": {},
   "outputs": [],
   "source": [
    "from tensorflow.keras.preprocessing import text, sequence"
   ]
  },
  {
   "cell_type": "code",
   "execution_count": 13,
   "id": "bibliographic-publicity",
   "metadata": {},
   "outputs": [],
   "source": [
    "## creating a tokenizer\n",
    "tokenizer = text.Tokenizer()\n",
    "tokenizer.fit_on_texts(train_data['text'])"
   ]
  },
  {
   "cell_type": "code",
   "execution_count": 14,
   "id": "addressed-province",
   "metadata": {},
   "outputs": [],
   "source": [
    "word_index = tokenizer.word_index"
   ]
  },
  {
   "cell_type": "code",
   "execution_count": 15,
   "id": "powered-leonard",
   "metadata": {},
   "outputs": [
    {
     "data": {
      "text/plain": [
       "22700"
      ]
     },
     "execution_count": 15,
     "metadata": {},
     "output_type": "execute_result"
    }
   ],
   "source": [
    "len(word_index)"
   ]
  },
  {
   "cell_type": "code",
   "execution_count": 16,
   "id": "higher-revolution",
   "metadata": {},
   "outputs": [],
   "source": [
    "# convering tweets to sequences and padding them\n",
    "train_seq_x = sequence.pad_sequences(tokenizer.texts_to_sequences(train_data['text']), maxlen=70,padding='post')\n",
    "test_seq_x = sequence.pad_sequences(tokenizer.texts_to_sequences(test_data['text']), maxlen=70,padding='post')"
   ]
  },
  {
   "cell_type": "code",
   "execution_count": 17,
   "id": "liquid-personal",
   "metadata": {},
   "outputs": [
    {
     "data": {
      "text/plain": [
       "array([[ 119, 4633,   24, ...,    0,    0,    0],\n",
       "       [ 189,   45,  229, ...,    0,    0,    0],\n",
       "       [  40, 1751, 1620, ...,    0,    0,    0],\n",
       "       ...,\n",
       "       [2824, 2401,  709, ...,    0,    0,    0],\n",
       "       [  78, 1145,   41, ...,    0,    0,    0],\n",
       "       [   4,  209,   54, ...,    0,    0,    0]], dtype=int32)"
      ]
     },
     "execution_count": 17,
     "metadata": {},
     "output_type": "execute_result"
    }
   ],
   "source": [
    "train_seq_x"
   ]
  },
  {
   "cell_type": "code",
   "execution_count": 18,
   "id": "horizontal-inspection",
   "metadata": {},
   "outputs": [],
   "source": [
    "train_x, valid_x, train_y,valid_y = train_test_split(train_seq_x, train_data['target'], test_size = 0.15, random_state = 42 )"
   ]
  },
  {
   "cell_type": "code",
   "execution_count": 19,
   "id": "aggressive-royal",
   "metadata": {},
   "outputs": [],
   "source": [
    "### loading pretrained word-embeddings\n",
    "embeddings_index = {}\n",
    "\n",
    "for i, line in enumerate(open('data/wiki-news-300d-1M.vec', encoding='utf-8')):\n",
    "    values = line.split()\n",
    "    embeddings_index[values[0]] = np.asarray(values[1:], dtype='float32')"
   ]
  },
  {
   "cell_type": "code",
   "execution_count": 20,
   "id": "laughing-death",
   "metadata": {},
   "outputs": [
    {
     "data": {
      "text/plain": [
       "999995"
      ]
     },
     "execution_count": 20,
     "metadata": {},
     "output_type": "execute_result"
    }
   ],
   "source": [
    "len(embeddings_index.keys())"
   ]
  },
  {
   "cell_type": "code",
   "execution_count": 21,
   "id": "great-characteristic",
   "metadata": {},
   "outputs": [
    {
     "name": "stdout",
     "output_type": "stream",
     "text": [
      "Embeddings found for 12084 words out of 22700\n"
     ]
    }
   ],
   "source": [
    "### token embedding mapping\n",
    "embedding_matrix = np.zeros((len(word_index)+1, 300))\n",
    "\n",
    "x = 0\n",
    "unfound_words = []\n",
    "for word, i in word_index.items():\n",
    "    vec = embeddings_index.get(word)\n",
    "    if vec is not None:\n",
    "        x+=1\n",
    "        embedding_matrix[i] = vec\n",
    "    else:\n",
    "        unfound_words.append(word)\n",
    "\n",
    "print(\"Embeddings found for {} words out of {}\".format(x, len(word_index)))"
   ]
  },
  {
   "cell_type": "code",
   "execution_count": 22,
   "id": "found-eugene",
   "metadata": {},
   "outputs": [],
   "source": [
    "# unfound_words[400:450]"
   ]
  },
  {
   "cell_type": "code",
   "execution_count": 23,
   "id": "organic-mailman",
   "metadata": {},
   "outputs": [],
   "source": [
    "# embedding_matrix[-1]"
   ]
  },
  {
   "cell_type": "code",
   "execution_count": 24,
   "id": "running-heart",
   "metadata": {},
   "outputs": [],
   "source": [
    "# embedding_matrix.sum(axis=1)"
   ]
  },
  {
   "cell_type": "markdown",
   "id": "warming-soviet",
   "metadata": {},
   "source": [
    "### LSTM"
   ]
  },
  {
   "cell_type": "code",
   "execution_count": 25,
   "id": "coordinate-saying",
   "metadata": {},
   "outputs": [],
   "source": [
    "from tensorflow.keras import layers"
   ]
  },
  {
   "cell_type": "code",
   "execution_count": 26,
   "id": "conditional-tampa",
   "metadata": {},
   "outputs": [],
   "source": [
    "from tensorflow.keras import optimizers"
   ]
  },
  {
   "cell_type": "code",
   "execution_count": 27,
   "id": "prompt-chair",
   "metadata": {},
   "outputs": [],
   "source": [
    "from tensorflow.keras import models"
   ]
  },
  {
   "cell_type": "code",
   "execution_count": 31,
   "id": "baking-national",
   "metadata": {},
   "outputs": [],
   "source": [
    "def create_lstm_model():\n",
    "    \n",
    "    input_layer = layers.Input(shape=(70,)) # input layer\n",
    "    embedding_layer = layers.Embedding(len(word_index)+1, 300, trainable = False, weights = [embedding_matrix])(input_layer)\n",
    "    embedding_layer = layers.SpatialDropout1D(0.3)(embedding_layer)\n",
    "    \n",
    "    lstm_layer = layers.LSTM(100 )(embedding_layer)\n",
    "#     pooling_layer = layers.GlobalMaxPool1D()(lstm_layer)\n",
    "\n",
    "#     output_layer0 = layers.Dense(128, activation = 'relu')(pooling_layer)\n",
    "# #     output_layer0 = layers.BatchNormalization()(output_layer0)\n",
    "#     output_layer0 = layers.Dropout(0.25)(output_layer0)\n",
    "\n",
    "#     output_layer1 = layers.Dense(64, activation = 'relu')(output_layer0)\n",
    "# #     output_layer1 = layers.BatchNormalization()(output_layer1)\n",
    "#     output_layer1 = layers.Dropout(0.25)(output_layer1)\n",
    "    \n",
    "#     output_layer2 = layers.Dense(32, activation = 'relu')(output_layer1)\n",
    "# #     output_layer2 = layers.BatchNormalization()(output_layer2)\n",
    "#     output_layer2 = layers.Dropout(0.25)(output_layer2)\n",
    "    \n",
    "    output_layer3 = layers.Dense(16, activation = 'relu')(lstm_layer)\n",
    "#     output_layer3 = layers.BatchNormalization()(output_layer3)\n",
    "#     output_layer3 = layers.Dropout(0.25)(output_layer3)\n",
    "    \n",
    "    output_layer4 = layers.Dense(1, activation = 'sigmoid')(output_layer3)\n",
    "    \n",
    "    model= models.Model(inputs = input_layer, outputs = output_layer4)\n",
    "    model.compile(optimizer = optimizers.Adam(learning_rate=0.0001) ,loss = \"binary_crossentropy\")\n",
    "    \n",
    "    return model"
   ]
  },
  {
   "cell_type": "code",
   "execution_count": 32,
   "id": "sixth-lewis",
   "metadata": {},
   "outputs": [],
   "source": [
    "### training the model\n",
    "\n",
    "model = create_lstm_model()\n"
   ]
  },
  {
   "cell_type": "code",
   "execution_count": 33,
   "id": "missing-partnership",
   "metadata": {},
   "outputs": [
    {
     "name": "stdout",
     "output_type": "stream",
     "text": [
      "Model: \"model\"\n",
      "_________________________________________________________________\n",
      "Layer (type)                 Output Shape              Param #   \n",
      "=================================================================\n",
      "input_2 (InputLayer)         [(None, 70)]              0         \n",
      "_________________________________________________________________\n",
      "embedding_1 (Embedding)      (None, 70, 300)           6810300   \n",
      "_________________________________________________________________\n",
      "spatial_dropout1d_1 (Spatial (None, 70, 300)           0         \n",
      "_________________________________________________________________\n",
      "lstm_1 (LSTM)                (None, 100)               160400    \n",
      "_________________________________________________________________\n",
      "dense (Dense)                (None, 16)                1616      \n",
      "_________________________________________________________________\n",
      "dense_1 (Dense)              (None, 1)                 17        \n",
      "=================================================================\n",
      "Total params: 6,972,333\n",
      "Trainable params: 162,033\n",
      "Non-trainable params: 6,810,300\n",
      "_________________________________________________________________\n"
     ]
    }
   ],
   "source": [
    "model.summary()"
   ]
  },
  {
   "cell_type": "code",
   "execution_count": 34,
   "id": "powered-pitch",
   "metadata": {},
   "outputs": [
    {
     "name": "stdout",
     "output_type": "stream",
     "text": [
      "Epoch 1/200\n",
      "203/203 [==============================] - 14s 57ms/step - loss: 0.6795 - val_loss: 0.5207\n",
      "Epoch 2/200\n",
      "203/203 [==============================] - 12s 60ms/step - loss: 0.5015 - val_loss: 0.4538\n",
      "Epoch 3/200\n",
      "203/203 [==============================] - 10s 47ms/step - loss: 0.4644 - val_loss: 0.4311\n",
      "Epoch 4/200\n",
      "203/203 [==============================] - 12s 57ms/step - loss: 0.4491 - val_loss: 0.4269\n",
      "Epoch 5/200\n",
      "203/203 [==============================] - 13s 62ms/step - loss: 0.4437 - val_loss: 0.4211\n",
      "Epoch 6/200\n",
      "203/203 [==============================] - 12s 57ms/step - loss: 0.4400 - val_loss: 0.4281\n",
      "Epoch 7/200\n",
      "203/203 [==============================] - 11s 55ms/step - loss: 0.4340 - val_loss: 0.4412\n",
      "Epoch 8/200\n",
      "203/203 [==============================] - 9s 45ms/step - loss: 0.4453 - val_loss: 0.4186\n",
      "Epoch 9/200\n",
      "203/203 [==============================] - 10s 47ms/step - loss: 0.4294 - val_loss: 0.4168\n",
      "Epoch 10/200\n",
      "203/203 [==============================] - 12s 59ms/step - loss: 0.4274 - val_loss: 0.4119\n",
      "Epoch 11/200\n",
      "203/203 [==============================] - 11s 55ms/step - loss: 0.4143 - val_loss: 0.4315\n",
      "Epoch 12/200\n",
      "203/203 [==============================] - 11s 54ms/step - loss: 0.4227 - val_loss: 0.4182\n",
      "Epoch 13/200\n",
      "203/203 [==============================] - 9s 46ms/step - loss: 0.4163 - val_loss: 0.4146\n",
      "Epoch 14/200\n",
      "203/203 [==============================] - 11s 57ms/step - loss: 0.4328 - val_loss: 0.4197\n",
      "Epoch 15/200\n",
      "203/203 [==============================] - 10s 47ms/step - loss: 0.4242 - val_loss: 0.4158\n",
      "Classification report : \n",
      "\n",
      "              precision    recall  f1-score   support\n",
      "\n",
      "           1       0.86      0.73      0.79       491\n",
      "           0       0.81      0.91      0.86       651\n",
      "\n",
      "   micro avg       0.83      0.83      0.83      1142\n",
      "   macro avg       0.83      0.82      0.82      1142\n",
      "weighted avg       0.83      0.83      0.83      1142\n",
      "\n",
      "Exporting data to: \n",
      "\n",
      "\t data/lstm_submission_20210225124029.csv\n"
     ]
    }
   ],
   "source": [
    "train_model(model, train_x, train_y, valid_x, valid_y, \n",
    "            neural_network = True, epochs = 200,\n",
    "            test_vectors = test_seq_x, submissions_data = sample_submission, submissions_file_prefix=\"lstm_submission\" \n",
    "           )"
   ]
  },
  {
   "cell_type": "markdown",
   "id": "orange-profile",
   "metadata": {},
   "source": [
    "### BiLSTM"
   ]
  },
  {
   "cell_type": "code",
   "execution_count": 35,
   "id": "suitable-blocking",
   "metadata": {},
   "outputs": [],
   "source": [
    "def create_bilstm_model():\n",
    "    \n",
    "    input_layer = layers.Input(shape=(70,)) # input layer\n",
    "    embedding_layer = layers.Embedding(len(word_index)+1, 300, trainable = False, weights = [embedding_matrix])(input_layer)\n",
    "    embedding_layer = layers.SpatialDropout1D(0.3)(embedding_layer)\n",
    "    \n",
    "    lstm_layer = layers.Bidirectional(layers.LSTM(100 ))(embedding_layer)\n",
    "#     pooling_layer = layers.GlobalMaxPool1D()(lstm_layer)\n",
    "\n",
    "#     output_layer0 = layers.Dense(128, activation = 'relu')(pooling_layer)\n",
    "# #     output_layer0 = layers.BatchNormalization()(output_layer0)\n",
    "#     output_layer0 = layers.Dropout(0.25)(output_layer0)\n",
    "\n",
    "#     output_layer1 = layers.Dense(64, activation = 'relu')(output_layer0)\n",
    "# #     output_layer1 = layers.BatchNormalization()(output_layer1)\n",
    "#     output_layer1 = layers.Dropout(0.25)(output_layer1)\n",
    "    \n",
    "#     output_layer2 = layers.Dense(32, activation = 'relu')(output_layer1)\n",
    "# #     output_layer2 = layers.BatchNormalization()(output_layer2)\n",
    "#     output_layer2 = layers.Dropout(0.25)(output_layer2)\n",
    "    \n",
    "    output_layer3 = layers.Dense(16, activation = 'relu')(lstm_layer)\n",
    "#     output_layer3 = layers.BatchNormalization()(output_layer3)\n",
    "#     output_layer3 = layers.Dropout(0.25)(output_layer3)\n",
    "    \n",
    "    output_layer4 = layers.Dense(1, activation = 'sigmoid')(output_layer3)\n",
    "    \n",
    "    model= models.Model(inputs = input_layer, outputs = output_layer4)\n",
    "    model.compile(optimizer = optimizers.Adam(learning_rate=0.0001) ,loss = \"binary_crossentropy\")\n",
    "    \n",
    "    return model"
   ]
  },
  {
   "cell_type": "code",
   "execution_count": 36,
   "id": "radio-titanium",
   "metadata": {},
   "outputs": [],
   "source": [
    "### training the model\n",
    "\n",
    "model = create_bilstm_model()\n"
   ]
  },
  {
   "cell_type": "code",
   "execution_count": 37,
   "id": "arctic-latin",
   "metadata": {},
   "outputs": [
    {
     "name": "stdout",
     "output_type": "stream",
     "text": [
      "Model: \"model_1\"\n",
      "_________________________________________________________________\n",
      "Layer (type)                 Output Shape              Param #   \n",
      "=================================================================\n",
      "input_3 (InputLayer)         [(None, 70)]              0         \n",
      "_________________________________________________________________\n",
      "embedding_2 (Embedding)      (None, 70, 300)           6810300   \n",
      "_________________________________________________________________\n",
      "spatial_dropout1d_2 (Spatial (None, 70, 300)           0         \n",
      "_________________________________________________________________\n",
      "bidirectional (Bidirectional (None, 200)               320800    \n",
      "_________________________________________________________________\n",
      "dense_2 (Dense)              (None, 16)                3216      \n",
      "_________________________________________________________________\n",
      "dense_3 (Dense)              (None, 1)                 17        \n",
      "=================================================================\n",
      "Total params: 7,134,333\n",
      "Trainable params: 324,033\n",
      "Non-trainable params: 6,810,300\n",
      "_________________________________________________________________\n"
     ]
    }
   ],
   "source": [
    "model.summary()"
   ]
  },
  {
   "cell_type": "code",
   "execution_count": 38,
   "id": "legal-season",
   "metadata": {},
   "outputs": [
    {
     "name": "stdout",
     "output_type": "stream",
     "text": [
      "Epoch 1/200\n",
      "203/203 [==============================] - 23s 97ms/step - loss: 0.6748 - val_loss: 0.5269\n",
      "Epoch 2/200\n",
      "203/203 [==============================] - 20s 98ms/step - loss: 0.5056 - val_loss: 0.4405\n",
      "Epoch 3/200\n",
      "203/203 [==============================] - 19s 93ms/step - loss: 0.4687 - val_loss: 0.4429\n",
      "Epoch 4/200\n",
      "203/203 [==============================] - 16s 80ms/step - loss: 0.4368 - val_loss: 0.4634\n",
      "Epoch 5/200\n",
      "203/203 [==============================] - 16s 81ms/step - loss: 0.4607 - val_loss: 0.4202\n",
      "Epoch 6/200\n",
      "203/203 [==============================] - 16s 81ms/step - loss: 0.4270 - val_loss: 0.4285\n",
      "Epoch 7/200\n",
      "203/203 [==============================] - 17s 82ms/step - loss: 0.4269 - val_loss: 0.4203\n",
      "Epoch 8/200\n",
      "203/203 [==============================] - 17s 85ms/step - loss: 0.4136 - val_loss: 0.4206\n",
      "Epoch 9/200\n",
      "203/203 [==============================] - 17s 84ms/step - loss: 0.4300 - val_loss: 0.4150\n",
      "Epoch 10/200\n",
      "203/203 [==============================] - 17s 84ms/step - loss: 0.4257 - val_loss: 0.4134\n",
      "Epoch 11/200\n",
      "203/203 [==============================] - 17s 83ms/step - loss: 0.4219 - val_loss: 0.4156\n",
      "Epoch 12/200\n",
      "203/203 [==============================] - 17s 85ms/step - loss: 0.4291 - val_loss: 0.4125\n",
      "Epoch 13/200\n",
      "203/203 [==============================] - 17s 84ms/step - loss: 0.4170 - val_loss: 0.4116\n",
      "Epoch 14/200\n",
      "203/203 [==============================] - 17s 85ms/step - loss: 0.4199 - val_loss: 0.4101\n",
      "Epoch 15/200\n",
      "203/203 [==============================] - 17s 84ms/step - loss: 0.4059 - val_loss: 0.4167\n",
      "Epoch 16/200\n",
      "203/203 [==============================] - 18s 87ms/step - loss: 0.4121 - val_loss: 0.4195\n",
      "Epoch 17/200\n",
      "203/203 [==============================] - 17s 85ms/step - loss: 0.4112 - val_loss: 0.4184\n",
      "Epoch 18/200\n",
      "203/203 [==============================] - 17s 85ms/step - loss: 0.3906 - val_loss: 0.4108\n",
      "Epoch 19/200\n",
      "203/203 [==============================] - 17s 85ms/step - loss: 0.3991 - val_loss: 0.4118\n",
      "Classification report : \n",
      "\n",
      "              precision    recall  f1-score   support\n",
      "\n",
      "           1       0.83      0.76      0.79       491\n",
      "           0       0.83      0.88      0.85       651\n",
      "\n",
      "   micro avg       0.83      0.83      0.83      1142\n",
      "   macro avg       0.83      0.82      0.82      1142\n",
      "weighted avg       0.83      0.83      0.83      1142\n",
      "\n",
      "Exporting data to: \n",
      "\n",
      "\t data/bilstm_submission_20210225125117.csv\n"
     ]
    }
   ],
   "source": [
    "train_model(model, train_x, train_y, valid_x, valid_y, \n",
    "            neural_network = True, epochs = 200,\n",
    "            test_vectors = test_seq_x, submissions_data = sample_submission, submissions_file_prefix=\"bilstm_submission\" \n",
    "           )"
   ]
  },
  {
   "cell_type": "code",
   "execution_count": null,
   "id": "pleasant-dimension",
   "metadata": {},
   "outputs": [],
   "source": []
  }
 ],
 "metadata": {
  "kernelspec": {
   "display_name": "Python 3",
   "language": "python",
   "name": "python3"
  },
  "language_info": {
   "codemirror_mode": {
    "name": "ipython",
    "version": 3
   },
   "file_extension": ".py",
   "mimetype": "text/x-python",
   "name": "python",
   "nbconvert_exporter": "python",
   "pygments_lexer": "ipython3",
   "version": "3.7.7"
  }
 },
 "nbformat": 4,
 "nbformat_minor": 5
}
