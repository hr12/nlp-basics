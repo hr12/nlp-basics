{
 "cells": [
  {
   "cell_type": "markdown",
   "metadata": {},
   "source": [
    "### Loading data and libraries"
   ]
  },
  {
   "cell_type": "code",
   "execution_count": 1,
   "metadata": {},
   "outputs": [],
   "source": [
    "import pandas as pd\n",
    "import numpy as np\n",
    "from sklearn import linear_model, preprocessing, model_selection,feature_extraction"
   ]
  },
  {
   "cell_type": "code",
   "execution_count": 2,
   "metadata": {},
   "outputs": [],
   "source": [
    "from sklearn.model_selection import RandomizedSearchCV"
   ]
  },
  {
   "cell_type": "code",
   "execution_count": 3,
   "metadata": {},
   "outputs": [],
   "source": [
    "import matplotlib.pyplot as plt"
   ]
  },
  {
   "cell_type": "code",
   "execution_count": 4,
   "metadata": {},
   "outputs": [],
   "source": [
    "from sklearn.model_selection import train_test_split"
   ]
  },
  {
   "cell_type": "code",
   "execution_count": 5,
   "metadata": {},
   "outputs": [],
   "source": [
    "from nlp_utils.model import train_model"
   ]
  },
  {
   "cell_type": "code",
   "execution_count": 6,
   "metadata": {},
   "outputs": [],
   "source": [
    "data_folder = 'data/'"
   ]
  },
  {
   "cell_type": "code",
   "execution_count": 7,
   "metadata": {},
   "outputs": [
    {
     "name": "stdout",
     "output_type": "stream",
     "text": [
      "(7613, 6)\n",
      "(3263, 5)\n"
     ]
    }
   ],
   "source": [
    "## using the cleaned files\n",
    "train_data = pd.read_csv(data_folder+'train_clean.csv'); print(train_data.shape)\n",
    "test_data = pd.read_csv(data_folder+'test_clean.csv'); print(test_data.shape)"
   ]
  },
  {
   "cell_type": "code",
   "execution_count": 8,
   "metadata": {},
   "outputs": [
    {
     "data": {
      "text/html": [
       "<div>\n",
       "<style scoped>\n",
       "    .dataframe tbody tr th:only-of-type {\n",
       "        vertical-align: middle;\n",
       "    }\n",
       "\n",
       "    .dataframe tbody tr th {\n",
       "        vertical-align: top;\n",
       "    }\n",
       "\n",
       "    .dataframe thead th {\n",
       "        text-align: right;\n",
       "    }\n",
       "</style>\n",
       "<table border=\"1\" class=\"dataframe\">\n",
       "  <thead>\n",
       "    <tr style=\"text-align: right;\">\n",
       "      <th></th>\n",
       "      <th>id</th>\n",
       "      <th>keyword</th>\n",
       "      <th>location</th>\n",
       "      <th>text</th>\n",
       "      <th>target</th>\n",
       "      <th>text_clean</th>\n",
       "    </tr>\n",
       "  </thead>\n",
       "  <tbody>\n",
       "    <tr>\n",
       "      <th>0</th>\n",
       "      <td>1</td>\n",
       "      <td>NaN</td>\n",
       "      <td>NaN</td>\n",
       "      <td>Our Deeds are the Reason of this #earthquake M...</td>\n",
       "      <td>1</td>\n",
       "      <td>deed reason earthquake may allah forgive u</td>\n",
       "    </tr>\n",
       "    <tr>\n",
       "      <th>1</th>\n",
       "      <td>4</td>\n",
       "      <td>NaN</td>\n",
       "      <td>NaN</td>\n",
       "      <td>Forest fire near La Ronge Sask. Canada</td>\n",
       "      <td>1</td>\n",
       "      <td>forest fire near la ronge sask canada</td>\n",
       "    </tr>\n",
       "    <tr>\n",
       "      <th>2</th>\n",
       "      <td>5</td>\n",
       "      <td>NaN</td>\n",
       "      <td>NaN</td>\n",
       "      <td>All residents asked to 'shelter in place' are ...</td>\n",
       "      <td>1</td>\n",
       "      <td>resident asked shelter place notified officer ...</td>\n",
       "    </tr>\n",
       "    <tr>\n",
       "      <th>3</th>\n",
       "      <td>6</td>\n",
       "      <td>NaN</td>\n",
       "      <td>NaN</td>\n",
       "      <td>13,000 people receive #wildfires evacuation or...</td>\n",
       "      <td>1</td>\n",
       "      <td>people receive wildfire evacuation order cali...</td>\n",
       "    </tr>\n",
       "    <tr>\n",
       "      <th>4</th>\n",
       "      <td>7</td>\n",
       "      <td>NaN</td>\n",
       "      <td>NaN</td>\n",
       "      <td>Just got sent this photo from Ruby #Alaska as ...</td>\n",
       "      <td>1</td>\n",
       "      <td>got sent photo ruby alaska smoke wildfire pour...</td>\n",
       "    </tr>\n",
       "  </tbody>\n",
       "</table>\n",
       "</div>"
      ],
      "text/plain": [
       "   id keyword location                                               text  \\\n",
       "0   1     NaN      NaN  Our Deeds are the Reason of this #earthquake M...   \n",
       "1   4     NaN      NaN             Forest fire near La Ronge Sask. Canada   \n",
       "2   5     NaN      NaN  All residents asked to 'shelter in place' are ...   \n",
       "3   6     NaN      NaN  13,000 people receive #wildfires evacuation or...   \n",
       "4   7     NaN      NaN  Just got sent this photo from Ruby #Alaska as ...   \n",
       "\n",
       "   target                                         text_clean  \n",
       "0       1         deed reason earthquake may allah forgive u  \n",
       "1       1              forest fire near la ronge sask canada  \n",
       "2       1  resident asked shelter place notified officer ...  \n",
       "3       1   people receive wildfire evacuation order cali...  \n",
       "4       1  got sent photo ruby alaska smoke wildfire pour...  "
      ]
     },
     "execution_count": 8,
     "metadata": {},
     "output_type": "execute_result"
    }
   ],
   "source": [
    "train_data.head()"
   ]
  },
  {
   "cell_type": "code",
   "execution_count": 9,
   "metadata": {},
   "outputs": [
    {
     "data": {
      "text/plain": [
       "'Arnhem Weather - &lt;p&gt;An unrelenting and dangerous heat wave will expand across the South Central United States\\x89Û_ http://t.co/yhAqa5WXoK'"
      ]
     },
     "execution_count": 9,
     "metadata": {},
     "output_type": "execute_result"
    }
   ],
   "source": [
    "train_data[train_data['target'] == 1].sample()['text'].values[0]"
   ]
  },
  {
   "cell_type": "code",
   "execution_count": 10,
   "metadata": {},
   "outputs": [],
   "source": [
    "# train_data.location.value_counts()"
   ]
  },
  {
   "cell_type": "code",
   "execution_count": 11,
   "metadata": {},
   "outputs": [],
   "source": [
    "sample_submission = pd.read_csv(data_folder+'sample_submission.csv')\n",
    "# sample_submission.head()"
   ]
  },
  {
   "cell_type": "markdown",
   "metadata": {},
   "source": [
    "### Word Embeddings"
   ]
  },
  {
   "cell_type": "markdown",
   "metadata": {},
   "source": [
    "#### Pre-processing"
   ]
  },
  {
   "cell_type": "code",
   "execution_count": 12,
   "metadata": {},
   "outputs": [],
   "source": [
    "from tensorflow.keras.preprocessing import text, sequence"
   ]
  },
  {
   "cell_type": "code",
   "execution_count": 13,
   "metadata": {},
   "outputs": [],
   "source": [
    "## creating a tokenizer\n",
    "tokenizer = text.Tokenizer()\n",
    "tokenizer.fit_on_texts(train_data['text'])"
   ]
  },
  {
   "cell_type": "code",
   "execution_count": 14,
   "metadata": {},
   "outputs": [],
   "source": [
    "word_index = tokenizer.word_index"
   ]
  },
  {
   "cell_type": "code",
   "execution_count": 15,
   "metadata": {},
   "outputs": [
    {
     "data": {
      "text/plain": [
       "22700"
      ]
     },
     "execution_count": 15,
     "metadata": {},
     "output_type": "execute_result"
    }
   ],
   "source": [
    "len(word_index)"
   ]
  },
  {
   "cell_type": "code",
   "execution_count": 16,
   "metadata": {},
   "outputs": [],
   "source": [
    "# convering tweets to sequences and padding them\n",
    "train_seq_x = sequence.pad_sequences(tokenizer.texts_to_sequences(train_data['text']), maxlen=70,padding='post')\n",
    "test_seq_x = sequence.pad_sequences(tokenizer.texts_to_sequences(test_data['text']), maxlen=70,padding='post')"
   ]
  },
  {
   "cell_type": "code",
   "execution_count": 17,
   "metadata": {},
   "outputs": [
    {
     "data": {
      "text/plain": [
       "array([[ 119, 4633,   24, ...,    0,    0,    0],\n",
       "       [ 189,   45,  229, ...,    0,    0,    0],\n",
       "       [  40, 1751, 1620, ...,    0,    0,    0],\n",
       "       ...,\n",
       "       [2824, 2401,  709, ...,    0,    0,    0],\n",
       "       [  78, 1145,   41, ...,    0,    0,    0],\n",
       "       [   4,  209,   54, ...,    0,    0,    0]], dtype=int32)"
      ]
     },
     "execution_count": 17,
     "metadata": {},
     "output_type": "execute_result"
    }
   ],
   "source": [
    "train_seq_x"
   ]
  },
  {
   "cell_type": "code",
   "execution_count": 18,
   "metadata": {},
   "outputs": [],
   "source": [
    "train_x, valid_x, train_y,valid_y = train_test_split(train_seq_x, train_data['target'], test_size = 0.15, random_state = 42 )"
   ]
  },
  {
   "cell_type": "code",
   "execution_count": 19,
   "metadata": {},
   "outputs": [],
   "source": [
    "### loading pretrained word-embeddings\n",
    "embeddings_index = {}\n",
    "\n",
    "for i, line in enumerate(open('data/wiki-news-300d-1M.vec', encoding='utf-8')):\n",
    "    values = line.split()\n",
    "    embeddings_index[values[0]] = np.asarray(values[1:], dtype='float32')"
   ]
  },
  {
   "cell_type": "code",
   "execution_count": 20,
   "metadata": {},
   "outputs": [
    {
     "data": {
      "text/plain": [
       "999995"
      ]
     },
     "execution_count": 20,
     "metadata": {},
     "output_type": "execute_result"
    }
   ],
   "source": [
    "len(embeddings_index.keys())"
   ]
  },
  {
   "cell_type": "code",
   "execution_count": 21,
   "metadata": {},
   "outputs": [
    {
     "name": "stdout",
     "output_type": "stream",
     "text": [
      "Embeddings found for 12084 words out of 22700\n"
     ]
    }
   ],
   "source": [
    "### token embedding mapping\n",
    "embedding_matrix = np.zeros((len(word_index)+1, 300))\n",
    "\n",
    "x = 0\n",
    "unfound_words = []\n",
    "for word, i in word_index.items():\n",
    "    vec = embeddings_index.get(word)\n",
    "    if vec is not None:\n",
    "        x+=1\n",
    "        embedding_matrix[i] = vec\n",
    "    else:\n",
    "        unfound_words.append(word)\n",
    "\n",
    "print(\"Embeddings found for {} words out of {}\".format(x, len(word_index)))"
   ]
  },
  {
   "cell_type": "code",
   "execution_count": 22,
   "metadata": {},
   "outputs": [],
   "source": [
    "# unfound_words[400:450]"
   ]
  },
  {
   "cell_type": "code",
   "execution_count": 23,
   "metadata": {},
   "outputs": [],
   "source": [
    "# embedding_matrix[-1]"
   ]
  },
  {
   "cell_type": "code",
   "execution_count": 24,
   "metadata": {},
   "outputs": [],
   "source": [
    "# embedding_matrix.sum(axis=1)"
   ]
  },
  {
   "cell_type": "markdown",
   "metadata": {},
   "source": [
    "### LSTM"
   ]
  },
  {
   "cell_type": "code",
   "execution_count": 25,
   "metadata": {},
   "outputs": [],
   "source": [
    "from tensorflow.keras import layers"
   ]
  },
  {
   "cell_type": "code",
   "execution_count": 26,
   "metadata": {},
   "outputs": [],
   "source": [
    "from tensorflow.keras import optimizers"
   ]
  },
  {
   "cell_type": "code",
   "execution_count": 27,
   "metadata": {},
   "outputs": [],
   "source": [
    "from tensorflow.keras import models"
   ]
  },
  {
   "cell_type": "code",
   "execution_count": 28,
   "metadata": {},
   "outputs": [],
   "source": [
    "def create_lstm_model():\n",
    "    \n",
    "    input_layer = layers.Input(shape=(70,)) # input layer\n",
    "    embedding_layer = layers.Embedding(len(word_index)+1, 300, trainable = False, weights = [embedding_matrix])(input_layer)\n",
    "    embedding_layer = layers.SpatialDropout1D(0.3)(embedding_layer)\n",
    "    \n",
    "    lstm_layer = layers.LSTM(100 )(embedding_layer)\n",
    "#     pooling_layer = layers.GlobalMaxPool1D()(lstm_layer)\n",
    "\n",
    "    output_layer0 = layers.Dense(128, activation = 'relu')(lstm_layer)\n",
    "#     output_layer0 = layers.BatchNormalization()(output_layer0)\n",
    "    output_layer0 = layers.Dropout(0.25)(output_layer0)\n",
    "\n",
    "#     output_layer1 = layers.Dense(64, activation = 'relu')(output_layer0)\n",
    "# #     output_layer1 = layers.BatchNormalization()(output_layer1)\n",
    "#     output_layer1 = layers.Dropout(0.25)(output_layer1)\n",
    "    \n",
    "#     output_layer2 = layers.Dense(32, activation = 'relu')(output_layer1)\n",
    "# #     output_layer2 = layers.BatchNormalization()(output_layer2)\n",
    "#     output_layer2 = layers.Dropout(0.25)(output_layer2)\n",
    "    \n",
    "    output_layer3 = layers.Dense(16, activation = 'relu')(output_layer0)\n",
    "#     output_layer3 = layers.BatchNormalization()(output_layer3)\n",
    "#     output_layer3 = layers.Dropout(0.25)(output_layer3)\n",
    "    \n",
    "    output_layer4 = layers.Dense(1, activation = 'sigmoid')(output_layer3)\n",
    "    \n",
    "    model= models.Model(inputs = input_layer, outputs = output_layer4)\n",
    "    model.compile(optimizer = optimizers.Adam(learning_rate=0.0001) ,loss = \"binary_crossentropy\")\n",
    "    \n",
    "    return model"
   ]
  },
  {
   "cell_type": "code",
   "execution_count": 29,
   "metadata": {},
   "outputs": [],
   "source": [
    "### training the model\n",
    "\n",
    "model = create_lstm_model()\n"
   ]
  },
  {
   "cell_type": "code",
   "execution_count": 30,
   "metadata": {},
   "outputs": [
    {
     "name": "stdout",
     "output_type": "stream",
     "text": [
      "Model: \"model\"\n",
      "_________________________________________________________________\n",
      "Layer (type)                 Output Shape              Param #   \n",
      "=================================================================\n",
      "input_1 (InputLayer)         [(None, 70)]              0         \n",
      "_________________________________________________________________\n",
      "embedding (Embedding)        (None, 70, 300)           6810300   \n",
      "_________________________________________________________________\n",
      "spatial_dropout1d (SpatialDr (None, 70, 300)           0         \n",
      "_________________________________________________________________\n",
      "lstm (LSTM)                  (None, 100)               160400    \n",
      "_________________________________________________________________\n",
      "dense (Dense)                (None, 128)               12928     \n",
      "_________________________________________________________________\n",
      "dropout (Dropout)            (None, 128)               0         \n",
      "_________________________________________________________________\n",
      "dense_1 (Dense)              (None, 16)                2064      \n",
      "_________________________________________________________________\n",
      "dense_2 (Dense)              (None, 1)                 17        \n",
      "=================================================================\n",
      "Total params: 6,985,709\n",
      "Trainable params: 175,409\n",
      "Non-trainable params: 6,810,300\n",
      "_________________________________________________________________\n"
     ]
    }
   ],
   "source": [
    "model.summary()"
   ]
  },
  {
   "cell_type": "code",
   "execution_count": 31,
   "metadata": {},
   "outputs": [
    {
     "name": "stdout",
     "output_type": "stream",
     "text": [
      "Epoch 1/200\n",
      "203/203 [==============================] - 13s 55ms/step - loss: 0.6838 - val_loss: 0.5728\n",
      "Epoch 2/200\n",
      "203/203 [==============================] - 9s 47ms/step - loss: 0.5562 - val_loss: 0.4818\n",
      "Epoch 3/200\n",
      "203/203 [==============================] - 9s 44ms/step - loss: 0.4858 - val_loss: 0.4376\n",
      "Epoch 4/200\n",
      "203/203 [==============================] - 9s 43ms/step - loss: 0.4534 - val_loss: 0.4347\n",
      "Epoch 5/200\n",
      "203/203 [==============================] - 9s 44ms/step - loss: 0.4511 - val_loss: 0.4191\n",
      "Epoch 6/200\n",
      "203/203 [==============================] - 9s 44ms/step - loss: 0.4493 - val_loss: 0.4096\n",
      "Epoch 7/200\n",
      "203/203 [==============================] - 9s 45ms/step - loss: 0.4380 - val_loss: 0.4291\n",
      "Epoch 8/200\n",
      "203/203 [==============================] - 10s 47ms/step - loss: 0.4562 - val_loss: 0.4141\n",
      "Epoch 9/200\n",
      "203/203 [==============================] - 10s 49ms/step - loss: 0.4204 - val_loss: 0.4103\n",
      "Epoch 10/200\n",
      "203/203 [==============================] - 12s 58ms/step - loss: 0.4230 - val_loss: 0.4073\n",
      "Epoch 11/200\n",
      "203/203 [==============================] - 12s 59ms/step - loss: 0.4277 - val_loss: 0.4116\n",
      "Epoch 12/200\n",
      "203/203 [==============================] - 9s 43ms/step - loss: 0.4275 - val_loss: 0.4106\n",
      "Epoch 13/200\n",
      "203/203 [==============================] - 9s 47ms/step - loss: 0.4235 - val_loss: 0.4130\n",
      "Epoch 14/200\n",
      "203/203 [==============================] - 11s 53ms/step - loss: 0.4280 - val_loss: 0.4149\n",
      "Epoch 15/200\n",
      "203/203 [==============================] - 10s 49ms/step - loss: 0.4285 - val_loss: 0.4103\n",
      "Classification report : \n",
      "\n",
      "              precision    recall  f1-score   support\n",
      "\n",
      "           1       0.85      0.76      0.80       491\n",
      "           0       0.83      0.90      0.86       651\n",
      "\n",
      "   micro avg       0.84      0.84      0.84      1142\n",
      "   macro avg       0.84      0.83      0.83      1142\n",
      "weighted avg       0.84      0.84      0.84      1142\n",
      "\n",
      "Exporting data to: \n",
      "\n",
      "\t data/lstm_submission_20210226162831.csv\n"
     ]
    }
   ],
   "source": [
    "train_model(model, train_x, train_y, valid_x, valid_y, \n",
    "            neural_network = True, epochs = 200,\n",
    "            test_vectors = test_seq_x, submissions_data = sample_submission, submissions_file_prefix=\"lstm_submission\" \n",
    "           )"
   ]
  },
  {
   "cell_type": "code",
   "execution_count": 32,
   "metadata": {},
   "outputs": [],
   "source": [
    "#0.76, 0.85"
   ]
  },
  {
   "cell_type": "markdown",
   "metadata": {},
   "source": [
    "### BiLSTM"
   ]
  },
  {
   "cell_type": "code",
   "execution_count": 31,
   "metadata": {},
   "outputs": [],
   "source": [
    "def create_bilstm_model():\n",
    "    \n",
    "    input_layer = layers.Input(shape=(70,)) # input layer\n",
    "    embedding_layer = layers.Embedding(len(word_index)+1, 300, trainable = False, weights = [embedding_matrix])(input_layer)\n",
    "    embedding_layer = layers.SpatialDropout1D(0.3)(embedding_layer)\n",
    "    \n",
    "    bilstm_layer = layers.Bidirectional(layers.LSTM(100 ))(embedding_layer)\n",
    "#     pooling_layer = layers.GlobalMaxPool1D()(lstm_layer)\n",
    "\n",
    "    output_layer0 = layers.Dense(128, activation = 'relu')(bilstm_layer)\n",
    "#     output_layer0 = layers.BatchNormalization()(output_layer0)\n",
    "    output_layer0 = layers.Dropout(0.25)(output_layer0)\n",
    "\n",
    "    output_layer1 = layers.Dense(64, activation = 'relu')(output_layer0)\n",
    "#     output_layer1 = layers.BatchNormalization()(output_layer1)\n",
    "    output_layer1 = layers.Dropout(0.25)(output_layer1)\n",
    "    \n",
    "#     output_layer2 = layers.Dense(32, activation = 'relu')(output_layer1)\n",
    "# #     output_layer2 = layers.BatchNormalization()(output_layer2)\n",
    "#     output_layer2 = layers.Dropout(0.25)(output_layer2)\n",
    "    \n",
    "    output_layer3 = layers.Dense(16, activation = 'relu')(output_layer1)\n",
    "#     output_layer3 = layers.BatchNormalization()(output_layer3)\n",
    "#     output_layer3 = layers.Dropout(0.25)(output_layer3)\n",
    "    \n",
    "    output_layer4 = layers.Dense(1, activation = 'sigmoid')(output_layer3)\n",
    "    \n",
    "    model= models.Model(inputs = input_layer, outputs = output_layer4)\n",
    "    model.compile(optimizer = optimizers.Adam(learning_rate=0.00001) ,loss = \"binary_crossentropy\")\n",
    "    \n",
    "    return model"
   ]
  },
  {
   "cell_type": "code",
   "execution_count": 32,
   "metadata": {},
   "outputs": [],
   "source": [
    "### training the model\n",
    "\n",
    "model = create_bilstm_model()\n"
   ]
  },
  {
   "cell_type": "code",
   "execution_count": 33,
   "metadata": {},
   "outputs": [
    {
     "name": "stdout",
     "output_type": "stream",
     "text": [
      "Model: \"model_1\"\n",
      "_________________________________________________________________\n",
      "Layer (type)                 Output Shape              Param #   \n",
      "=================================================================\n",
      "input_2 (InputLayer)         [(None, 70)]              0         \n",
      "_________________________________________________________________\n",
      "embedding_1 (Embedding)      (None, 70, 300)           6810300   \n",
      "_________________________________________________________________\n",
      "spatial_dropout1d_1 (Spatial (None, 70, 300)           0         \n",
      "_________________________________________________________________\n",
      "bidirectional (Bidirectional (None, 200)               320800    \n",
      "_________________________________________________________________\n",
      "dense_3 (Dense)              (None, 128)               25728     \n",
      "_________________________________________________________________\n",
      "dropout_1 (Dropout)          (None, 128)               0         \n",
      "_________________________________________________________________\n",
      "dense_4 (Dense)              (None, 64)                8256      \n",
      "_________________________________________________________________\n",
      "dropout_2 (Dropout)          (None, 64)                0         \n",
      "_________________________________________________________________\n",
      "dense_5 (Dense)              (None, 16)                1040      \n",
      "_________________________________________________________________\n",
      "dense_6 (Dense)              (None, 1)                 17        \n",
      "=================================================================\n",
      "Total params: 7,166,141\n",
      "Trainable params: 355,841\n",
      "Non-trainable params: 6,810,300\n",
      "_________________________________________________________________\n"
     ]
    }
   ],
   "source": [
    "model.summary()"
   ]
  },
  {
   "cell_type": "code",
   "execution_count": 34,
   "metadata": {},
   "outputs": [
    {
     "name": "stdout",
     "output_type": "stream",
     "text": [
      "Epoch 1/200\n",
      "203/203 [==============================] - 24s 105ms/step - loss: 0.6944 - val_loss: 0.6922\n",
      "Epoch 2/200\n",
      "203/203 [==============================] - 19s 93ms/step - loss: 0.6923 - val_loss: 0.6904\n",
      "Epoch 3/200\n",
      "203/203 [==============================] - 21s 105ms/step - loss: 0.6902 - val_loss: 0.6882\n",
      "Epoch 4/200\n",
      "203/203 [==============================] - 21s 103ms/step - loss: 0.6888 - val_loss: 0.6853\n",
      "Epoch 5/200\n",
      "203/203 [==============================] - 27s 134ms/step - loss: 0.6854 - val_loss: 0.6627\n",
      "Epoch 6/200\n",
      "203/203 [==============================] - 26s 129ms/step - loss: 0.6423 - val_loss: 0.5822\n",
      "Epoch 7/200\n",
      "203/203 [==============================] - 29s 141ms/step - loss: 0.5846 - val_loss: 0.5464\n",
      "Epoch 8/200\n",
      "203/203 [==============================] - 26s 128ms/step - loss: 0.5564 - val_loss: 0.5195\n",
      "Epoch 9/200\n",
      "203/203 [==============================] - 26s 127ms/step - loss: 0.5320 - val_loss: 0.5004\n",
      "Epoch 10/200\n",
      "203/203 [==============================] - 25s 125ms/step - loss: 0.5254 - val_loss: 0.4896\n",
      "Epoch 11/200\n",
      "203/203 [==============================] - 26s 129ms/step - loss: 0.5250 - val_loss: 0.4762\n",
      "Epoch 12/200\n",
      "203/203 [==============================] - 27s 133ms/step - loss: 0.5067 - val_loss: 0.4707\n",
      "Epoch 13/200\n",
      "203/203 [==============================] - 26s 130ms/step - loss: 0.4825 - val_loss: 0.4639\n",
      "Epoch 14/200\n",
      "203/203 [==============================] - 27s 136ms/step - loss: 0.4917 - val_loss: 0.4582\n",
      "Epoch 15/200\n",
      "203/203 [==============================] - 29s 144ms/step - loss: 0.4712 - val_loss: 0.4548\n",
      "Epoch 16/200\n",
      "203/203 [==============================] - 29s 141ms/step - loss: 0.4757 - val_loss: 0.4497\n",
      "Epoch 17/200\n",
      "203/203 [==============================] - 29s 142ms/step - loss: 0.4675 - val_loss: 0.4470\n",
      "Epoch 18/200\n",
      "203/203 [==============================] - 29s 142ms/step - loss: 0.4778 - val_loss: 0.4423\n",
      "Epoch 19/200\n",
      "203/203 [==============================] - 29s 144ms/step - loss: 0.4554 - val_loss: 0.4406\n",
      "Epoch 20/200\n",
      "203/203 [==============================] - 30s 150ms/step - loss: 0.4652 - val_loss: 0.4367\n",
      "Epoch 21/200\n",
      "203/203 [==============================] - 30s 147ms/step - loss: 0.4522 - val_loss: 0.4348\n",
      "Epoch 22/200\n",
      "203/203 [==============================] - 30s 148ms/step - loss: 0.4642 - val_loss: 0.4335\n",
      "Epoch 23/200\n",
      "203/203 [==============================] - 31s 151ms/step - loss: 0.4594 - val_loss: 0.4314\n",
      "Epoch 24/200\n",
      "203/203 [==============================] - 31s 152ms/step - loss: 0.4448 - val_loss: 0.4327\n",
      "Epoch 25/200\n",
      "203/203 [==============================] - 31s 154ms/step - loss: 0.4491 - val_loss: 0.4307\n",
      "Epoch 26/200\n",
      "203/203 [==============================] - 34s 169ms/step - loss: 0.4673 - val_loss: 0.4291\n",
      "Epoch 27/200\n",
      "203/203 [==============================] - 33s 164ms/step - loss: 0.4570 - val_loss: 0.4304\n",
      "Epoch 28/200\n",
      "203/203 [==============================] - 34s 167ms/step - loss: 0.4548 - val_loss: 0.4258\n",
      "Epoch 29/200\n",
      "203/203 [==============================] - 34s 166ms/step - loss: 0.4368 - val_loss: 0.4252\n",
      "Epoch 30/200\n",
      "203/203 [==============================] - 36s 176ms/step - loss: 0.4451 - val_loss: 0.4270\n",
      "Epoch 31/200\n",
      "203/203 [==============================] - 34s 165ms/step - loss: 0.4538 - val_loss: 0.4278\n",
      "Epoch 32/200\n",
      "203/203 [==============================] - 37s 182ms/step - loss: 0.4414 - val_loss: 0.4244\n",
      "Epoch 33/200\n",
      "203/203 [==============================] - 44s 214ms/step - loss: 0.4497 - val_loss: 0.4228\n",
      "Epoch 34/200\n",
      "203/203 [==============================] - 40s 196ms/step - loss: 0.4335 - val_loss: 0.4241\n",
      "Epoch 35/200\n",
      "203/203 [==============================] - 35s 174ms/step - loss: 0.4318 - val_loss: 0.4233\n",
      "Epoch 36/200\n",
      "203/203 [==============================] - 40s 195ms/step - loss: 0.4326 - val_loss: 0.4235\n",
      "Epoch 37/200\n",
      "203/203 [==============================] - 31s 154ms/step - loss: 0.4470 - val_loss: 0.4212\n",
      "Epoch 38/200\n",
      "203/203 [==============================] - 32s 156ms/step - loss: 0.4443 - val_loss: 0.4215\n",
      "Epoch 39/200\n",
      "203/203 [==============================] - 40s 198ms/step - loss: 0.4395 - val_loss: 0.4212\n",
      "Epoch 40/200\n",
      "203/203 [==============================] - 48s 234ms/step - loss: 0.4458 - val_loss: 0.4204\n",
      "Epoch 41/200\n",
      "203/203 [==============================] - 45s 222ms/step - loss: 0.4451 - val_loss: 0.4206\n",
      "Epoch 42/200\n",
      "203/203 [==============================] - 51s 252ms/step - loss: 0.4434 - val_loss: 0.4195\n",
      "Epoch 43/200\n",
      "203/203 [==============================] - 36s 178ms/step - loss: 0.4400 - val_loss: 0.4203\n",
      "Epoch 44/200\n",
      "203/203 [==============================] - 37s 180ms/step - loss: 0.4450 - val_loss: 0.4209\n",
      "Epoch 45/200\n",
      "203/203 [==============================] - 44s 217ms/step - loss: 0.4384 - val_loss: 0.4199\n",
      "Epoch 46/200\n",
      "203/203 [==============================] - 41s 204ms/step - loss: 0.4237 - val_loss: 0.4204\n",
      "Epoch 47/200\n",
      "203/203 [==============================] - 45s 221ms/step - loss: 0.4264 - val_loss: 0.4214\n",
      "Classification report : \n",
      "\n",
      "              precision    recall  f1-score   support\n",
      "\n",
      "           1       0.88      0.68      0.77       491\n",
      "           0       0.80      0.93      0.86       651\n",
      "\n",
      "   micro avg       0.82      0.82      0.82      1142\n",
      "   macro avg       0.84      0.81      0.81      1142\n",
      "weighted avg       0.83      0.82      0.82      1142\n",
      "\n",
      "Exporting data to: \n",
      "\n",
      "\t data/bilstm_submission_20210308115331.csv\n"
     ]
    }
   ],
   "source": [
    "train_model(model, train_x, train_y, valid_x, valid_y, \n",
    "            neural_network = True, epochs = 200,\n",
    "            test_vectors = test_seq_x, submissions_data = sample_submission, submissions_file_prefix=\"bilstm_submission\" \n",
    "           )"
   ]
  },
  {
   "cell_type": "code",
   "execution_count": 41,
   "metadata": {},
   "outputs": [],
   "source": [
    "# 0.8, 0.86"
   ]
  },
  {
   "cell_type": "markdown",
   "metadata": {},
   "source": [
    "### RCNN"
   ]
  },
  {
   "cell_type": "code",
   "execution_count": 61,
   "metadata": {},
   "outputs": [],
   "source": [
    "def create_rcnn():\n",
    "    input_layer = layers.Input(shape = (70,))\n",
    "    \n",
    "    embedding_layer = layers.Embedding(len(word_index)+1,300, trainable = False, weights = [embedding_matrix])(input_layer)\n",
    "    embedding_layer = layers.SpatialDropout1D(0.25)(embedding_layer)\n",
    "    \n",
    "    bilstm_layer = layers.Bidirectional(layers.LSTM(100, return_sequences = True))(embedding_layer)\n",
    "    \n",
    "    cnn_layer = layers.Convolution1D(100,3, activation = 'relu')(bilstm_layer)\n",
    "    \n",
    "    pooling_layer = layers.GlobalMaxPool1D()(cnn_layer)\n",
    "    \n",
    "    output_layer0 = layers.Dense(32, activation = 'relu')(pooling_layer)\n",
    "    output_layer0 = layers.Dropout(0.25)(output_layer0)\n",
    "    \n",
    "    output_layer1 = layers.Dense(16, activation = 'relu')(output_layer0)\n",
    "    output_layer1 = layers.Dropout(0.25)(output_layer1)\n",
    "    \n",
    "    output_layer = layers.Dense(1, activation = 'sigmoid')(output_layer1)\n",
    "    \n",
    "    model = models.Model(inputs = input_layer, outputs = output_layer)\n",
    "    model.compile(optimizer = optimizers.Adam(lr = 0.0001), loss = 'binary_crossentropy')\n",
    "    \n",
    "    return model"
   ]
  },
  {
   "cell_type": "code",
   "execution_count": 62,
   "metadata": {},
   "outputs": [],
   "source": [
    "model = create_rcnn()"
   ]
  },
  {
   "cell_type": "code",
   "execution_count": 63,
   "metadata": {},
   "outputs": [
    {
     "name": "stdout",
     "output_type": "stream",
     "text": [
      "Model: \"model_5\"\n",
      "_________________________________________________________________\n",
      "Layer (type)                 Output Shape              Param #   \n",
      "=================================================================\n",
      "input_12 (InputLayer)        [(None, 70)]              0         \n",
      "_________________________________________________________________\n",
      "embedding_10 (Embedding)     (None, 70, 300)           6810300   \n",
      "_________________________________________________________________\n",
      "spatial_dropout1d_9 (Spatial (None, 70, 300)           0         \n",
      "_________________________________________________________________\n",
      "bidirectional_8 (Bidirection (None, 70, 200)           320800    \n",
      "_________________________________________________________________\n",
      "conv1d_7 (Conv1D)            (None, 68, 100)           60100     \n",
      "_________________________________________________________________\n",
      "global_max_pooling1d_4 (Glob (None, 100)               0         \n",
      "_________________________________________________________________\n",
      "dense_20 (Dense)             (None, 32)                3232      \n",
      "_________________________________________________________________\n",
      "dropout_11 (Dropout)         (None, 32)                0         \n",
      "_________________________________________________________________\n",
      "dense_21 (Dense)             (None, 16)                528       \n",
      "_________________________________________________________________\n",
      "dropout_12 (Dropout)         (None, 16)                0         \n",
      "_________________________________________________________________\n",
      "dense_22 (Dense)             (None, 1)                 17        \n",
      "=================================================================\n",
      "Total params: 7,194,977\n",
      "Trainable params: 384,677\n",
      "Non-trainable params: 6,810,300\n",
      "_________________________________________________________________\n"
     ]
    }
   ],
   "source": [
    "model.summary()"
   ]
  },
  {
   "cell_type": "code",
   "execution_count": 64,
   "metadata": {},
   "outputs": [
    {
     "name": "stdout",
     "output_type": "stream",
     "text": [
      "Epoch 1/200\n",
      "203/203 [==============================] - 31s 136ms/step - loss: 0.6796 - val_loss: 0.5605\n",
      "Epoch 2/200\n",
      "203/203 [==============================] - 23s 114ms/step - loss: 0.5563 - val_loss: 0.4596\n",
      "Epoch 3/200\n",
      "203/203 [==============================] - 21s 104ms/step - loss: 0.4961 - val_loss: 0.4443\n",
      "Epoch 4/200\n",
      "203/203 [==============================] - 22s 106ms/step - loss: 0.4791 - val_loss: 0.4288\n",
      "Epoch 5/200\n",
      "203/203 [==============================] - 22s 109ms/step - loss: 0.4516 - val_loss: 0.4306\n",
      "Epoch 6/200\n",
      "203/203 [==============================] - 22s 111ms/step - loss: 0.4374 - val_loss: 0.4195\n",
      "Epoch 7/200\n",
      "203/203 [==============================] - 23s 111ms/step - loss: 0.4449 - val_loss: 0.4192\n",
      "Epoch 8/200\n",
      "203/203 [==============================] - 23s 113ms/step - loss: 0.4497 - val_loss: 0.4157\n",
      "Epoch 9/200\n",
      "203/203 [==============================] - 23s 114ms/step - loss: 0.4310 - val_loss: 0.4140\n",
      "Epoch 10/200\n",
      "203/203 [==============================] - 26s 126ms/step - loss: 0.4273 - val_loss: 0.4288\n",
      "Epoch 11/200\n",
      "203/203 [==============================] - 26s 126ms/step - loss: 0.4358 - val_loss: 0.4136\n",
      "Epoch 12/200\n",
      "203/203 [==============================] - 25s 121ms/step - loss: 0.4259 - val_loss: 0.4168\n",
      "Epoch 13/200\n",
      "203/203 [==============================] - 26s 126ms/step - loss: 0.4100 - val_loss: 0.4191\n",
      "Epoch 14/200\n",
      "203/203 [==============================] - 25s 125ms/step - loss: 0.4093 - val_loss: 0.4164\n",
      "Epoch 15/200\n",
      "203/203 [==============================] - 25s 125ms/step - loss: 0.4213 - val_loss: 0.4147\n",
      "Epoch 16/200\n",
      "203/203 [==============================] - 25s 125ms/step - loss: 0.4214 - val_loss: 0.4210\n",
      "Classification report : \n",
      "\n",
      "              precision    recall  f1-score   support\n",
      "\n",
      "           1       0.90      0.68      0.77       491\n",
      "           0       0.80      0.94      0.86       651\n",
      "\n",
      "   micro avg       0.83      0.83      0.83      1142\n",
      "   macro avg       0.85      0.81      0.82      1142\n",
      "weighted avg       0.84      0.83      0.83      1142\n",
      "\n",
      "Exporting data to: \n",
      "\n",
      "\t data/rcnn_submission_20210308131237.csv\n"
     ]
    }
   ],
   "source": [
    "train_model(model, train_x, train_y, valid_x, valid_y, \n",
    "            neural_network = True, epochs = 200,\n",
    "            test_vectors = test_seq_x, submissions_data = sample_submission, submissions_file_prefix=\"rcnn_submission\" \n",
    "           )"
   ]
  },
  {
   "cell_type": "code",
   "execution_count": null,
   "metadata": {},
   "outputs": [],
   "source": []
  }
 ],
 "metadata": {
  "kernelspec": {
   "display_name": "Python [conda env:cod-competition]",
   "language": "python",
   "name": "conda-env-cod-competition-py"
  },
  "language_info": {
   "codemirror_mode": {
    "name": "ipython",
    "version": 3
   },
   "file_extension": ".py",
   "mimetype": "text/x-python",
   "name": "python",
   "nbconvert_exporter": "python",
   "pygments_lexer": "ipython3",
   "version": "3.7.7"
  }
 },
 "nbformat": 4,
 "nbformat_minor": 5
}
